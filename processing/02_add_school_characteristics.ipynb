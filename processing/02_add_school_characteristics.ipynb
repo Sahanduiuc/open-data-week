{
 "cells": [
  {
   "cell_type": "markdown",
   "metadata": {},
   "source": [
    "# Adding school characteristics to the combined surveys dataset"
   ]
  },
  {
   "cell_type": "markdown",
   "metadata": {},
   "source": [
    "This notebook joins the school characteristics (geographic and school type, class size, and demographic information) to the combined surveys dataset created in `processing/01_combine_surveys.ipynb`."
   ]
  },
  {
   "cell_type": "markdown",
   "metadata": {},
   "source": [
    "## Import Python libraries and set working directories"
   ]
  },
  {
   "cell_type": "code",
   "execution_count": 1,
   "metadata": {
    "collapsed": true
   },
   "outputs": [],
   "source": [
    "import os\n",
    "import feather\n",
    "import numpy as np\n",
    "import pandas as pd"
   ]
  },
  {
   "cell_type": "code",
   "execution_count": 2,
   "metadata": {
    "collapsed": true
   },
   "outputs": [],
   "source": [
    "input_dir = os.path.join(os.path.dirname(os.getcwd()), 'data', 'input')\n",
    "intermediate_dir = os.path.join(os.path.dirname(os.getcwd()), 'data', 'intermediate')\n",
    "output_dir = os.path.join(os.path.dirname(os.getcwd()), 'data', 'output')"
   ]
  },
  {
   "cell_type": "markdown",
   "metadata": {},
   "source": [
    "## Run notebooks to load school characteristics data"
   ]
  },
  {
   "cell_type": "markdown",
   "metadata": {},
   "source": [
    "Run the processing notebooks for the three school characteristic dataframes:"
   ]
  },
  {
   "cell_type": "code",
   "execution_count": 3,
   "metadata": {
    "collapsed": true
   },
   "outputs": [],
   "source": [
    "%%capture\n",
    "%run schools_geography_type.ipynb\n",
    "%run schools_class_size.ipynb\n",
    "%run schools_demographics.ipynb"
   ]
  },
  {
   "cell_type": "markdown",
   "metadata": {},
   "source": [
    "## Load data"
   ]
  },
  {
   "cell_type": "code",
   "execution_count": 4,
   "metadata": {
    "collapsed": true
   },
   "outputs": [],
   "source": [
    "surveys = pd.read_feather(os.path.join(intermediate_dir, 'combined_surveys.feather'))\n",
    "geography = pd.read_feather(os.path.join(intermediate_dir, 'df_locations.feather'))\n",
    "class_size = pd.read_feather(os.path.join(intermediate_dir, 'df_class_size.feather')) \n",
    "demographics = pd.read_feather(os.path.join(intermediate_dir, 'df_demographics.feather')) "
   ]
  },
  {
   "cell_type": "markdown",
   "metadata": {},
   "source": [
    "## Merge data"
   ]
  },
  {
   "cell_type": "code",
   "execution_count": 5,
   "metadata": {
    "collapsed": true
   },
   "outputs": [],
   "source": [
    "merge1 = pd.merge(surveys, \n",
    "                  geography.drop(['school_name'], axis = 1), \n",
    "                  on = 'dbn', how = 'left')"
   ]
  },
  {
   "cell_type": "code",
   "execution_count": 6,
   "metadata": {
    "collapsed": true
   },
   "outputs": [],
   "source": [
    "merge2 = pd.merge(merge1, class_size, on = 'dbn', \n",
    "                  how = 'left', indicator = '_mergesize') # Charter schools do not have class size information"
   ]
  },
  {
   "cell_type": "code",
   "execution_count": 7,
   "metadata": {
    "collapsed": true
   },
   "outputs": [],
   "source": [
    "merge3 = pd.merge(merge2, demographics, on = 'dbn', how = 'left', indicator = '_mergedemo')"
   ]
  },
  {
   "cell_type": "code",
   "execution_count": 8,
   "metadata": {
    "collapsed": true
   },
   "outputs": [],
   "source": [
    "merge3.drop(['school_name', 'school_name_y'], axis = 1, inplace = True)"
   ]
  },
  {
   "cell_type": "code",
   "execution_count": 9,
   "metadata": {
    "collapsed": true
   },
   "outputs": [],
   "source": [
    "merge3.rename(columns = {'school_name_x':'school_name'}, inplace = True)"
   ]
  },
  {
   "cell_type": "markdown",
   "metadata": {},
   "source": [
    "## Save data"
   ]
  },
  {
   "cell_type": "markdown",
   "metadata": {},
   "source": [
    "Save the `merge3` dataframe, which represents the cleaned data, to a [feather](https://blog.cloudera.com/blog/2016/03/feather-a-fast-on-disk-format-for-data-frames-for-r-and-python-powered-by-apache-arrow/) file in the `data/output` folder. We'll also save it as a csv file."
   ]
  },
  {
   "cell_type": "code",
   "execution_count": 10,
   "metadata": {
    "collapsed": true
   },
   "outputs": [],
   "source": [
    "merge3.to_feather(os.path.join(output_dir, 'combined_data.feather'))\n",
    "merge3.to_csv(os.path.join(output_dir, 'combined_data.csv'), index = False)"
   ]
  }
 ],
 "metadata": {
  "kernelspec": {
   "display_name": "Python 3",
   "language": "python",
   "name": "python3"
  },
  "language_info": {
   "codemirror_mode": {
    "name": "ipython",
    "version": 3
   },
   "file_extension": ".py",
   "mimetype": "text/x-python",
   "name": "python",
   "nbconvert_exporter": "python",
   "pygments_lexer": "ipython3",
   "version": "3.5.4"
  }
 },
 "nbformat": 4,
 "nbformat_minor": 2
}
