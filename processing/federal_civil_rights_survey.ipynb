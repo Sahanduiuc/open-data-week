{
 "cells": [
  {
   "cell_type": "markdown",
   "metadata": {},
   "source": [
    "# Processing the federal Civil Rights Data Collection survey data"
   ]
  },
  {
   "cell_type": "markdown",
   "metadata": {},
   "source": [
    "This notebook documents how we downloaded, transformed, and cleaned the Civil Rights Data Collection survey data from the U.S. Department of Education's Office for Civil Rights for our analysis of bullying/harassment during the 2013-14 school year in NYC public schools. Note that although our analysis is restricted to NYC schools, here we are loading the entire dataset of U.S. public schools."
   ]
  },
  {
   "cell_type": "markdown",
   "metadata": {},
   "source": [
    "## Import Python libraries and set working directories"
   ]
  },
  {
   "cell_type": "code",
   "execution_count": 1,
   "metadata": {
    "collapsed": true
   },
   "outputs": [],
   "source": [
    "import os\n",
    "import re\n",
    "import feather\n",
    "import numpy as np\n",
    "import pandas as pd"
   ]
  },
  {
   "cell_type": "code",
   "execution_count": 2,
   "metadata": {},
   "outputs": [],
   "source": [
    "input_dir = os.path.join(os.path.dirname(os.getcwd()), 'data', 'input')\n",
    "intermediate_dir = os.path.join(os.path.dirname(os.getcwd()), 'data', 'intermediate')"
   ]
  },
  {
   "cell_type": "markdown",
   "metadata": {},
   "source": [
    "## Load raw data"
   ]
  },
  {
   "cell_type": "markdown",
   "metadata": {},
   "source": [
    "The [raw file](https://inventory.data.gov/dataset/2acc601e-9806-4dff-b144-f8a5e7c095b8/resource/3dc84a95-526a-4b90-aacd-72f60d4fecbc/download/crdc201314csv.zip) of survey responses comes from the U.S. Department of Education (ED)'s Office for Civil Rights (OCR), available on [Data.gov](https://catalog.data.gov/dataset/civil-rights-data-collection-2013-14). The full page for the Civil Rights Data Collection for the 2013-14 school year is [here](https://www2.ed.gov/about/offices/list/ocr/docs/crdc-2013-14.html). OCR also hosts a data portal with information from earlier years [here](https://ocrdata.ed.gov/)."
   ]
  },
  {
   "cell_type": "code",
   "execution_count": 3,
   "metadata": {
    "collapsed": true
   },
   "outputs": [],
   "source": [
    "ocr_schools_read = pd.read_csv(\n",
    "    os.path.join(input_dir, 'CRDC2013_14_SCH.csv'),\n",
    "    encoding = \"ISO-8859-1\", \n",
    "    dtype={'COMBOKEY':'str', 'LEAID': 'str', 'NCES_SCHOOL_ID': 'str'},\n",
    "    na_values = [-1, -2,-3, -4, -5, -9],\n",
    "    low_memory=False)\n",
    "\n",
    "ocr_schools_read.columns = ocr_schools_read.columns.str.lower()"
   ]
  },
  {
   "cell_type": "markdown",
   "metadata": {},
   "source": [
    "## Save an intermediate version of the data with just three columns: `sch_name`, `combokey` (the school's unique ID number), and `nces_school_id` (the school's ID number in another federal dataset)"
   ]
  },
  {
   "cell_type": "markdown",
   "metadata": {},
   "source": [
    "We will use this intermediate dataframe (which we will save into a [feather](https://blog.cloudera.com/blog/2016/03/feather-a-fast-on-disk-format-for-data-frames-for-r-and-python-powered-by-apache-arrow/) file in the `data/intermediate` folder), to create a crosswalk from the `DBN`, the code used in the NYC School Survey to identify schools, to the `combokey`, the code used in the federal civil rights data to identify schools. The `nces_school_id` is one of the steps along the way."
   ]
  },
  {
   "cell_type": "code",
   "execution_count": 4,
   "metadata": {
    "collapsed": true
   },
   "outputs": [],
   "source": [
    "ocr_schools_ids = ocr_schools_read[['sch_name', 'combokey', 'nces_school_id']]\n",
    "ocr_schools_ids.to_feather(os.path.join(intermediate_dir, 'ocr_schools_ids.feather'))"
   ]
  },
  {
   "cell_type": "markdown",
   "metadata": {},
   "source": [
    "## Select bullying/harassment variables"
   ]
  },
  {
   "cell_type": "markdown",
   "metadata": {},
   "source": [
    "For each school, the OCR collects information on the number of allegations of bullying/harassment, the number of students reported to be bullied/harassed, and the number of students disciplined for bullying/harassment. Bullying/harassment falls into three categories: race, sex, and disability."
   ]
  },
  {
   "cell_type": "code",
   "execution_count": 5,
   "metadata": {
    "collapsed": true
   },
   "outputs": [],
   "source": [
    "ocr = ocr_schools_read[['combokey'] + [c for c in ocr_schools_read.columns if ('tot_hb' in c) | \n",
    "                                       ('tot_enr' in c) | ('hballegations' in c)]].copy()"
   ]
  },
  {
   "cell_type": "markdown",
   "metadata": {},
   "source": [
    "Rename variables and create indicators for each category of harassment where the indicator will = 1 if there was at least one allegation/student in the category."
   ]
  },
  {
   "cell_type": "code",
   "execution_count": 6,
   "metadata": {
    "collapsed": true
   },
   "outputs": [],
   "source": [
    "ocr.rename(columns = {col: re.sub('rac', 'race', col) for col in ocr.columns}, inplace = True)\n",
    "ocr.rename(columns = {col: re.sub('sch_hballegations', 'allegations_harass', col) for col in ocr.columns}, inplace = True)\n",
    "ocr.rename(columns = {col: re.sub('tot_hbreported', 'students_report_harass', col) for col in ocr.columns}, inplace = True)\n",
    "ocr.rename(columns = {col: re.sub('tot_hbdisciplined', 'students_disc_harass', col) for col in ocr.columns}, inplace = True)\n",
    "ocr.rename(columns = {col: re.sub('tot_enr', 'ocr_enroll', col) for col in ocr.columns}, inplace = True)\n",
    "ocr.drop([c for c in ocr.columns if 'dso' in c], axis = 1, inplace = True)"
   ]
  },
  {
   "cell_type": "code",
   "execution_count": 7,
   "metadata": {
    "collapsed": true
   },
   "outputs": [],
   "source": [
    "for var in ['ocr_enroll', 'students_report_harass_sex', 'students_report_harass_race', \n",
    "            'students_report_harass_dis', 'students_disc_harass_sex', 'students_disc_harass_race', 'students_disc_harass_dis'] :\n",
    "    ocr[var + '_tot'] = ocr[var + '_m'] + ocr[var + '_f']\n",
    "\n",
    "for var in ['students_report_harass_sex', 'students_report_harass_race', \n",
    "            'students_report_harass_dis', 'students_disc_harass_sex', 'students_disc_harass_race', 'students_disc_harass_dis'] :    \n",
    "    ocr['perc_' + var] = (ocr[var + '_tot'] / ocr['ocr_enroll_tot']) * 100 \n",
    "\n",
    "for var in ['sex', 'race', 'dis'] :\n",
    "    ocr['perc_allegations_harass_' + var] = ocr['allegations_harass_' + var] / ocr['ocr_enroll_tot']\n",
    "    \n",
    "for var in ['dis', 'race', 'sex'] : \n",
    "    ocr['students_report_harass_' + var + '_tot_ind'] = np.where(ocr['students_report_harass_' + var + '_tot'] > 0, 1, 0)\n",
    "    ocr['students_disc_harass_' + var + '_tot_ind'] = np.where(ocr['students_disc_harass_' + var + '_tot'] > 0, 1, 0)\n",
    "    ocr['allegations_harass_' + var + '_ind'] = np.where(ocr['allegations_harass_' + var] > 0, 1, 0)\n",
    "\n",
    "for indicator in ['disc_harass_', 'report_harass_', 'allegations_harass_']:\n",
    "    indicators_cols = [col for col in ocr.columns if ((indicator in col) & ('ind' in col))]\n",
    "    ocr[indicator + 'ind'] = ocr[indicators_cols].max(axis = 1)"
   ]
  },
  {
   "cell_type": "markdown",
   "metadata": {},
   "source": [
    "## Save cleaned data"
   ]
  },
  {
   "cell_type": "markdown",
   "metadata": {},
   "source": [
    "Save the `ocr` dataframe, which represents the cleaned Civil Rights Data Collection survey data, to a [feather](https://blog.cloudera.com/blog/2016/03/feather-a-fast-on-disk-format-for-data-frames-for-r-and-python-powered-by-apache-arrow/) file in the `data/intermediate` folder."
   ]
  },
  {
   "cell_type": "code",
   "execution_count": 8,
   "metadata": {
    "collapsed": true
   },
   "outputs": [],
   "source": [
    "ocr.to_feather(os.path.join(intermediate_dir, 'federal_ocr_survey.feather'))"
   ]
  }
 ],
 "metadata": {
  "kernelspec": {
   "display_name": "Python 3",
   "language": "python",
   "name": "python3"
  },
  "language_info": {
   "codemirror_mode": {
    "name": "ipython",
    "version": 3
   },
   "file_extension": ".py",
   "mimetype": "text/x-python",
   "name": "python",
   "nbconvert_exporter": "python",
   "pygments_lexer": "ipython3",
   "version": "3.5.4"
  }
 },
 "nbformat": 4,
 "nbformat_minor": 2
}
