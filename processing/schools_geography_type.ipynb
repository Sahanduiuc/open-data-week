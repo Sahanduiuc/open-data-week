{
 "cells": [
  {
   "cell_type": "markdown",
   "metadata": {},
   "source": [
    "# School geography and type"
   ]
  },
  {
   "cell_type": "markdown",
   "metadata": {},
   "source": [
    "This notebook loads data from the 2013-2014 School Locations [file](https://data.cityofnewyork.us/Education/2013-2014-School-Locations/ac4n-c5re) and extracts latitude and longitude and other school characteristics. "
   ]
  },
  {
   "cell_type": "markdown",
   "metadata": {},
   "source": [
    "## Import Python libraries and set working directories"
   ]
  },
  {
   "cell_type": "code",
   "execution_count": 2,
   "metadata": {
    "collapsed": true
   },
   "outputs": [],
   "source": [
    "import os\n",
    "import feather\n",
    "import numpy as np\n",
    "import pandas as pd"
   ]
  },
  {
   "cell_type": "code",
   "execution_count": 3,
   "metadata": {},
   "outputs": [],
   "source": [
    "input_dir = os.path.join(os.path.dirname(os.getcwd()), 'data', 'input')\n",
    "intermediate_dir = os.path.join(os.path.dirname(os.getcwd()), 'data', 'intermediate')\n",
    "output_dir = os.path.join(os.path.dirname(os.getcwd()), 'data', 'output')"
   ]
  },
  {
   "cell_type": "markdown",
   "metadata": {},
   "source": [
    "## Load data and select relevant variables"
   ]
  },
  {
   "cell_type": "code",
   "execution_count": 29,
   "metadata": {
    "collapsed": true
   },
   "outputs": [],
   "source": [
    "df_locations = pd.read_csv(\n",
    "    os.path.join(input_dir, '2013_-_2014_School_Locations.csv'), \n",
    "    dtype = str\n",
    ")\n",
    "\n",
    "df_locations.columns = df_locations.columns.str.lower()"
   ]
  },
  {
   "cell_type": "markdown",
   "metadata": {},
   "source": [
    "For the NYC schools in our dataset, the `ATS` is the same number as the `DBN`, so we can use this file to link the `DBN` to the `BEDS` for each school. For more information on the ATS and DBN systems, see NYCDOE's report, [\"A collection of Acronyms and Jargon\"](http://schools.nyc.gov/NR/rdonlyres/0C56D9B8-8DDB-46B8-AA5F-BF77AE8C2803/0/ACRONYMReferenceGuide.pdf) (last updated February 7, 2018)."
   ]
  },
  {
   "cell_type": "code",
   "execution_count": 30,
   "metadata": {
    "collapsed": true
   },
   "outputs": [],
   "source": [
    "df_locations['dbn'] = df_locations['ats system code'].str.strip()\n",
    "\n",
    "df_locations = df_locations[['dbn', 'location_name', 'managed_by_name', 'location_type_description', \n",
    "         'location_category_description', 'grades_final_text', 'location 1']]"
   ]
  },
  {
   "cell_type": "code",
   "execution_count": 31,
   "metadata": {
    "collapsed": true
   },
   "outputs": [],
   "source": [
    "df_locations.rename(columns = {'managed_by_name':'doe_or_charter', 'location_name':'school_name', 'location 1': 'address', 'location_type_description':'school_type', \n",
    "                        'location_category_description':'school_grade_category', 'grades_final_text':'grades_list'}, inplace = True)"
   ]
  },
  {
   "cell_type": "markdown",
   "metadata": {},
   "source": [
    "## Extract borough from `DBN` code"
   ]
  },
  {
   "cell_type": "markdown",
   "metadata": {},
   "source": [
    "The NYC Department of Education (NYCDOE) uses a **6-digit alphanumeric `DBN` (District Borough Number),** to identify schools. The code begins with the school's district number (2 digits), then the borough code (1 letter: K = Brooklyn; X = Bronx; Q = Queens; M = Manhattan; R = Staten Island), then the school code (3 digits)."
   ]
  },
  {
   "cell_type": "code",
   "execution_count": 32,
   "metadata": {
    "collapsed": true
   },
   "outputs": [],
   "source": [
    "df_locations['borough'] = df_locations['dbn'].str[2]\n",
    "\n",
    "def recode_borough(series):\n",
    "    if series == 'K':\n",
    "        return 'Brooklyn'\n",
    "    elif series == 'X':\n",
    "        return 'Bronx'\n",
    "    elif series == 'Q':\n",
    "        return 'Queens'\n",
    "    elif series == 'M':\n",
    "        return 'Manhattan'\n",
    "    elif series == \"R\":\n",
    "        return 'Staten Island'\n",
    "    \n",
    "df_locations['borough'] = df_locations['borough'].apply(recode_borough)"
   ]
  },
  {
   "cell_type": "markdown",
   "metadata": {},
   "source": [
    "## Extract lat and lon coordinates from school address"
   ]
  },
  {
   "cell_type": "code",
   "execution_count": 33,
   "metadata": {
    "collapsed": true
   },
   "outputs": [],
   "source": [
    "df_locations['lat'] = df_locations.address.str.extract('.*\\((.*)\\).*', expand = False).str.split(', ').str[0]\n",
    "df_locations['long'] = df_locations.address.str.extract('.*\\((.*)\\).*', expand = False).str.split(', ').str[1]"
   ]
  },
  {
   "cell_type": "code",
   "execution_count": 34,
   "metadata": {
    "collapsed": true
   },
   "outputs": [],
   "source": [
    "df_locations.drop(['address'], axis = 1, inplace = True)"
   ]
  },
  {
   "cell_type": "markdown",
   "metadata": {},
   "source": [
    "## Save data"
   ]
  },
  {
   "cell_type": "markdown",
   "metadata": {},
   "source": [
    "Save the `df_locations` dataframe to a [feather](https://blog.cloudera.com/blog/2016/03/feather-a-fast-on-disk-format-for-data-frames-for-r-and-python-powered-by-apache-arrow/) file in the `data/intermediate` folder."
   ]
  },
  {
   "cell_type": "code",
   "execution_count": 35,
   "metadata": {
    "collapsed": true
   },
   "outputs": [],
   "source": [
    "df_locations.to_feather(os.path.join(intermediate_dir, 'df_locations.feather'))"
   ]
  }
 ],
 "metadata": {
  "kernelspec": {
   "display_name": "Python 3",
   "language": "python",
   "name": "python3"
  },
  "language_info": {
   "codemirror_mode": {
    "name": "ipython",
    "version": 3
   },
   "file_extension": ".py",
   "mimetype": "text/x-python",
   "name": "python",
   "nbconvert_exporter": "python",
   "pygments_lexer": "ipython3",
   "version": "3.5.4"
  }
 },
 "nbformat": 4,
 "nbformat_minor": 2
}
