{
 "cells": [
  {
   "cell_type": "markdown",
   "metadata": {},
   "source": [
    "# Class size"
   ]
  },
  {
   "cell_type": "markdown",
   "metadata": {},
   "source": [
    "This notebook loads and cleans class size and pupil-teacher-ratio data from the 2013-14 Updated Class Size Report produced by the New York City Department of Education."
   ]
  },
  {
   "cell_type": "markdown",
   "metadata": {},
   "source": [
    "## Import Python libraries and set working directories"
   ]
  },
  {
   "cell_type": "code",
   "execution_count": 1,
   "metadata": {
    "collapsed": true
   },
   "outputs": [],
   "source": [
    "import os\n",
    "import feather\n",
    "import numpy as np\n",
    "import pandas as pd"
   ]
  },
  {
   "cell_type": "code",
   "execution_count": 2,
   "metadata": {
    "collapsed": true
   },
   "outputs": [],
   "source": [
    "input_dir = os.path.join(os.path.dirname(os.getcwd()), 'data', 'input')\n",
    "intermediate_dir = os.path.join(os.path.dirname(os.getcwd()), 'data', 'intermediate')\n",
    "output_dir = os.path.join(os.path.dirname(os.getcwd()), 'data', 'output')"
   ]
  },
  {
   "cell_type": "markdown",
   "metadata": {},
   "source": [
    "## Load data and generate `DBN` code to uniquely identify schools"
   ]
  },
  {
   "cell_type": "markdown",
   "metadata": {},
   "source": [
    "The [raw file](http://schools.nyc.gov/offices/d_chanc_oper/budget/dbor/DBOR_CLASS_SIZE/FY14_Data/Updated_School_level_Detail_Summary_2014_02_13.xlsx) comes from the NYC Department of Education (NYCDOE), available [here](http://schools.nyc.gov/NR/exeres/23ABEBD1-D31F-4436-BC76-DD630242E621,frameless.htm?NRMODE=Published). OCR also hosts a data portal with information from earlier years [here](https://ocrdata.ed.gov/). NYCDOE posts archived class size reports [here](http://schools.nyc.gov/AboutUs/schools/data/classsize/Class+Size+Archive.htm)."
   ]
  },
  {
   "cell_type": "code",
   "execution_count": null,
   "metadata": {
    "collapsed": true
   },
   "outputs": [],
   "source": [
    "report = pd.read_excel(\n",
    "    os.path.join(input_dir, 'Updated_School_level_Detail_Summary_2014_02_13.xlsx'), \n",
    "    skiprows = 10, \n",
    "    converters = {'CSD':str} \n",
    ")\n",
    "\n",
    "report.columns = report.columns.str.lower()\n",
    "report.columns = report.columns.str.replace(' ', '_')"
   ]
  },
  {
   "cell_type": "markdown",
   "metadata": {},
   "source": [
    "The DBN code can be generated as the `csd` plus the `school_code`."
   ]
  },
  {
   "cell_type": "code",
   "execution_count": 3,
   "metadata": {
    "collapsed": true
   },
   "outputs": [],
   "source": [
    "report['dbn'] = report[['csd', 'school_code']].apply(lambda x: ''.join(x), axis=1)"
   ]
  },
  {
   "cell_type": "markdown",
   "metadata": {},
   "source": [
    "## Calculate average class size"
   ]
  },
  {
   "cell_type": "markdown",
   "metadata": {},
   "source": [
    "First, sum the number of students or seats filled (`number_of_students_/_seats_filled`) and the number of sections (`number_of_sections`) for each school."
   ]
  },
  {
   "cell_type": "code",
   "execution_count": 6,
   "metadata": {
    "collapsed": true
   },
   "outputs": [],
   "source": [
    "report_agg = report.groupby(['dbn', 'school_name'])[['number_of_students_/_seats_filled', \n",
    "                                                       'number_of_sections']].sum().reset_index()"
   ]
  },
  {
   "cell_type": "markdown",
   "metadata": {},
   "source": [
    "Then, divide the number of students or seats filled (`number_of_students_/_seats_filled`) by the number of sections (`number_of_sections`) to get average class size."
   ]
  },
  {
   "cell_type": "code",
   "execution_count": 7,
   "metadata": {
    "collapsed": true
   },
   "outputs": [],
   "source": [
    "report_agg['avg_class_size'] = report_agg['number_of_students_/_seats_filled'] / report_agg['number_of_sections']"
   ]
  },
  {
   "cell_type": "markdown",
   "metadata": {},
   "source": [
    "## Get pupil-teacher ratios and merge with average class size"
   ]
  },
  {
   "cell_type": "code",
   "execution_count": 12,
   "metadata": {
    "collapsed": true
   },
   "outputs": [],
   "source": [
    "ratios = report[['dbn', 'school_name', 'schoolwide_pupil-teacher_ratio']].dropna(axis=0, how='any')\n",
    "merged = pd.merge(report_agg, ratios, on = ['dbn', 'school_name'], how = 'outer', indicator = True)\n",
    "merged.rename(columns = {'schoolwide_pupil-teacher_ratio': 'pupil_teacher_ratio'}, inplace = True)\n",
    "merged.drop(['number_of_students_/_seats_filled', 'number_of_sections', '_merge'], axis = 1, inplace = True)"
   ]
  },
  {
   "cell_type": "markdown",
   "metadata": {},
   "source": [
    "## Save data"
   ]
  },
  {
   "cell_type": "markdown",
   "metadata": {},
   "source": [
    "Save the `merged` dataframe to a [feather](https://blog.cloudera.com/blog/2016/03/feather-a-fast-on-disk-format-for-data-frames-for-r-and-python-powered-by-apache-arrow/) file in the `data/intermediate` folder."
   ]
  },
  {
   "cell_type": "code",
   "execution_count": 14,
   "metadata": {
    "collapsed": true
   },
   "outputs": [],
   "source": [
    "merged.to_feather(os.path.join(intermediate_dir, 'df_class_size.feather'))"
   ]
  }
 ],
 "metadata": {
  "kernelspec": {
   "display_name": "Python 3",
   "language": "python",
   "name": "python3"
  },
  "language_info": {
   "codemirror_mode": {
    "name": "ipython",
    "version": 3
   },
   "file_extension": ".py",
   "mimetype": "text/x-python",
   "name": "python",
   "nbconvert_exporter": "python",
   "pygments_lexer": "ipython3",
   "version": "3.5.4"
  }
 },
 "nbformat": 4,
 "nbformat_minor": 2
}
