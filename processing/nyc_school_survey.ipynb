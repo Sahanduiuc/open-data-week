{
 "cells": [
  {
   "cell_type": "markdown",
   "metadata": {},
   "source": [
    "# Processing the New York City School Survey data"
   ]
  },
  {
   "cell_type": "markdown",
   "metadata": {},
   "source": [
    "This notebook documents how we downloaded, transformed, and cleaned the NYC School Survey data from the NYC Department of Education for our analysis of bullying/harassment during the 2013-14 school year in NYC public schools."
   ]
  },
  {
   "cell_type": "markdown",
   "metadata": {},
   "source": [
    "## Import Python libraries and set working directories"
   ]
  },
  {
   "cell_type": "code",
   "execution_count": 1,
   "metadata": {
    "collapsed": true
   },
   "outputs": [],
   "source": [
    "import os\n",
    "import feather\n",
    "import numpy as np\n",
    "import pandas as pd"
   ]
  },
  {
   "cell_type": "code",
   "execution_count": 2,
   "metadata": {},
   "outputs": [
    {
     "data": {
      "text/plain": [
       "True"
      ]
     },
     "execution_count": 2,
     "metadata": {},
     "output_type": "execute_result"
    }
   ],
   "source": [
    "input_dir = os.path.join(os.path.dirname(os.getcwd()), 'data', 'input')\n",
    "intermediate_dir = os.path.join(os.path.dirname(os.getcwd()), 'data', 'intermediate')\n",
    "output_dir = os.path.join(os.path.dirname(os.getcwd()), 'data', 'output')\n",
    "\n",
    "os.path.exists(intermediate_dir) or os.mkdir(intermediate_dir)\n",
    "os.path.exists(output_dir) or os.mkdir(output_dir)"
   ]
  },
  {
   "cell_type": "markdown",
   "metadata": {},
   "source": [
    "## Load raw data"
   ]
  },
  {
   "cell_type": "markdown",
   "metadata": {},
   "source": [
    "The [raw Excel file](http://schools.nyc.gov/documents/misc/2014%20Public%20Data%20File%20SUPPRESSED.xlsx) of survey responses comes from the New York City Department of Education (NYCDOE). The full page for the 2014 NYC School Survey Results (representing the 2013-14 school year) is [here](http://schools.nyc.gov/Accountability/tools/survey/2014+NYC+School+Survey+Results). NYCDOE posts archived survey information [here](http://schools.nyc.gov/Accountability/tools/survey/SurveyArchives.htm)."
   ]
  },
  {
   "cell_type": "code",
   "execution_count": 12,
   "metadata": {
    "collapsed": true
   },
   "outputs": [],
   "source": [
    "surveys = pd.ExcelFile(\n",
    "    os.path.join(input_dir, '2014 Public Data File SUPPRESSED.xlsx')\n",
    ")"
   ]
  },
  {
   "cell_type": "markdown",
   "metadata": {},
   "source": [
    "## Save an intermediate version of the data with just two columns: `DBN` (the school's unique ID number) and `School Name`"
   ]
  },
  {
   "cell_type": "markdown",
   "metadata": {},
   "source": [
    "We will use this intermediate dataframe (which we will save into a [feather](https://blog.cloudera.com/blog/2016/03/feather-a-fast-on-disk-format-for-data-frames-for-r-and-python-powered-by-apache-arrow/) file in the `data/intermediate` folder), to create a crosswalk from the `DBN`, the code used in the NYC School Survey to identify schools, to the `combokey`, the code used in the federal civil rights data to identify schools."
   ]
  },
  {
   "cell_type": "code",
   "execution_count": 15,
   "metadata": {
    "collapsed": true
   },
   "outputs": [],
   "source": [
    "df_survey = surveys.parse(sheetname = 'Total - GenEd')\n",
    "df_survey = df_survey.iloc[2:,0:2]\n",
    "df_survey.reset_index(inplace = True, drop = True)\n",
    "df_survey.to_feather(os.path.join(intermediate_dir, 'nyc_survey_ids.feather'))"
   ]
  },
  {
   "cell_type": "markdown",
   "metadata": {},
   "source": [
    "## Transform raw data"
   ]
  },
  {
   "cell_type": "markdown",
   "metadata": {},
   "source": [
    "There are many sheets in the NYC School Survey file corresponding to the surveyed populations (Parents, Students, Teachers) & response types (% versus #). We are interested in the General Ed - # tabs for Parents, Students, and Teachers, which provides both the raw number of responses for each school. We'll reshape the original Excel sheets to \"long\" format for easier analysis. "
   ]
  },
  {
   "cell_type": "code",
   "execution_count": 43,
   "metadata": {
    "collapsed": true
   },
   "outputs": [],
   "source": [
    "def ReshapeFunc(excel_obj, name):\n",
    "    \"\"\" Takes in an excel file object with multiple tabs in a wide format, \n",
    "    and a specified index of the tab to be parsed and reshaped. \n",
    "    \n",
    "    Returns a data frame of the specified tab reshaped to long format \"\"\"\n",
    "    \n",
    "    # parse and clean columns\n",
    "    df = excel_obj.parse(sheetname = name)\n",
    "    cols1 = list(df)\n",
    "    cols2 = list(df.iloc[0,:])\n",
    "    cols2 = [str(x).lower() for x in cols2]\n",
    "    cols = [x+\"_\"+y for x,y in zip(cols1,cols2)]\n",
    "    df.columns = cols\n",
    "    df = df.iloc[2:,:]\n",
    "    \n",
    "    # reshape - indexing, pivoting and stacking\n",
    "    idx = [c for c in df.columns if c.endswith('_nan')]\n",
    "    multi_indexed_df = df.set_index(idx)\n",
    "    stacked_df = multi_indexed_df.stack(dropna=False)\n",
    "    long_df = stacked_df.reset_index()\n",
    "    \n",
    "    # clean up and finalize\n",
    "    long_df.columns = long_df.columns.astype(str)\n",
    "    level = [c for c in long_df.columns if c.startswith('level')]\n",
    "    col_str = long_df[level].iloc[:,0].str.split(\"_\") \n",
    "    long_df['question'] = [x[0] for x in col_str] \n",
    "    long_df['answer'] = [x[1] for x in col_str]\n",
    "    long_df['value'] = long_df['0']\n",
    "    long_df['value'] = long_df['value'].apply(lambda x: pd.to_numeric(x, errors='coerce'))\n",
    "    long_df['value'] = long_df['value'].fillna(0)\n",
    "    drop = [c for c in long_df.columns if '0' in c or 'level' in c]\n",
    "    df_final = long_df.drop(drop, axis = 1)\n",
    "    \n",
    "    df_final['question'] = np.where(df_final['question'].str.contains('Unnamed'), np.nan, df_final['question'])\n",
    "    df_final['question'] = df_final['question'].fillna(method='ffill')\n",
    "    \n",
    "    df_final.columns = df_final.columns.str.replace('_nan', '')\n",
    "    df_final.columns = df_final.columns.str.replace(' ', '_')\n",
    "    df_final.columns = df_final.columns.str.lower()\n",
    "    \n",
    "    return df_final"
   ]
  },
  {
   "cell_type": "code",
   "execution_count": 44,
   "metadata": {
    "collapsed": true
   },
   "outputs": [],
   "source": [
    "parents_num = ReshapeFunc(surveys, 'GenEd - Parent # of Responses')\n",
    "students_num = ReshapeFunc(surveys, 'GenEd - Student # of Responses')\n",
    "teachers_num = ReshapeFunc(surveys, 'Teacher # of Responses')"
   ]
  },
  {
   "cell_type": "markdown",
   "metadata": {},
   "source": [
    "## Select bullying/harassment questions from each of the surveys"
   ]
  },
  {
   "cell_type": "markdown",
   "metadata": {},
   "source": [
    "### Parents"
   ]
  },
  {
   "cell_type": "markdown",
   "metadata": {},
   "source": [
    "In the parent survey, the relevant questions are:\n",
    "- 5d. At my child's school students harass or bully other students.\n",
    "- 5e. At my child's school students harass or bully each other based on differences (such as race, color, ethnicity, national origin, citizenship / immigration status, religion, gender, gender identity, gender expression, sexual orientation, disability or weight).\n",
    "\n",
    "The answer categories are:\n",
    "- Strongly disagree\n",
    "- Disagree\n",
    "- Agree\n",
    "- Strongly agree\n",
    "- Don't Know\n",
    "\n",
    "Let's select these and put the parent survey information into a single dataframe."
   ]
  },
  {
   "cell_type": "code",
   "execution_count": 81,
   "metadata": {
    "collapsed": true
   },
   "outputs": [],
   "source": [
    "parents = parents_num.loc[parents_num['question'].str.startswith('5d') | \n",
    "                            parents_num['question'].str.startswith('5e')].copy()\n",
    "parents['level'] = 'parents'\n",
    "parents['question_n'] = parents.groupby(['dbn', 'question'])['value'].transform(sum)\n",
    "parents.rename(columns = {'number_of_eligible_responses':'total_n',\n",
    "                          'number_of_parent_responses':'survey_n'}, inplace = True)\n",
    "parents['survey_n'] = parents['survey_n'].apply(lambda x: pd.to_numeric(x, errors='coerce'))"
   ]
  },
  {
   "cell_type": "markdown",
   "metadata": {},
   "source": [
    "In our analysis, we delete the Don't Know category and recalculate the response percentages, in order to make Parents' responses comparable to Students' and Teachers', which both have 4-category responses."
   ]
  },
  {
   "cell_type": "code",
   "execution_count": 82,
   "metadata": {
    "collapsed": true
   },
   "outputs": [],
   "source": [
    "parents = parents.loc[parents['answer'] != \"don’t know\"].copy()\n",
    "parents['question_n_new'] = parents.groupby(['dbn', 'question'])['value'].transform(sum)\n",
    "parents['perc'] = (parents['value']/parents['question_n_new']) * 100"
   ]
  },
  {
   "cell_type": "markdown",
   "metadata": {},
   "source": [
    "### Students"
   ]
  },
  {
   "cell_type": "markdown",
   "metadata": {},
   "source": [
    "In the student survey, the relevant questions are:\n",
    "- 11c. At my school students harass or bully other students.\n",
    "- 11d. At my school students harass or bully each other based on differences (such as race, color, ethnicity, national origin, citizenship/immigration status, religion, gender, gender identity, gender expression, sexual orientation, disability or weight).\n",
    "\n",
    "The answer categories are:\n",
    "- None of the time\n",
    "- Some of the time\n",
    "- Most of the time\n",
    "- All of the time\n",
    "\n",
    "Let's select these and put the student survey information into a single dataframe."
   ]
  },
  {
   "cell_type": "code",
   "execution_count": 86,
   "metadata": {
    "collapsed": true
   },
   "outputs": [],
   "source": [
    "students_num['question_n'] = students_num.groupby(['dbn', 'question'])['value'].transform(sum)\n",
    "students_num['survey_n'] = students_num.groupby(['dbn'])['question_n'].transform(max)\n",
    "students = students_num.loc[students_num['question'].str.startswith('11c') | \n",
    "                            students_num['question'].str.startswith('11d')].copy()\n",
    "students['level'] = 'students'\n",
    "students['total_student_response_rate'] = students['total_student_response_rate'].apply(lambda x: pd.to_numeric(x, errors='coerce'))\n",
    "students['total_n'] = round(students['survey_n'] / (students['total_student_response_rate']/100))\n",
    "students.rename(columns = {'total_student_response_rate':'total_response_rate'}, inplace = True)"
   ]
  },
  {
   "cell_type": "markdown",
   "metadata": {},
   "source": [
    "### Teachers"
   ]
  },
  {
   "cell_type": "markdown",
   "metadata": {},
   "source": [
    "In the teacher survey, the relevant questions are:\n",
    "- 10e. At my school, students are often harassed or bullied in school.\n",
    "- 10j. At my school, there are conflicts based on differences (race, color, creed, ethnicity, national origin, citizenship/immigration status, religion, gender, gender identity, gender expression, sexual orientation, disability, or weight).\n",
    "\n",
    "The answer categories are:\n",
    "- Strongly disagree\n",
    "- Disagree\n",
    "- Agree\n",
    "- Strongly agree\n",
    "\n",
    "Let's select these and put the teacher survey information into a single dataframe."
   ]
  },
  {
   "cell_type": "code",
   "execution_count": 87,
   "metadata": {
    "collapsed": true
   },
   "outputs": [],
   "source": [
    "teachers = teachers_num.loc[teachers_num['question'].str.startswith('10e') | \n",
    "                            teachers_num['question'].str.startswith('10j')].copy()\n",
    "teachers['level'] = 'teachers'\n",
    "teachers['question_n'] = teachers.groupby(['dbn', 'question'])['value'].transform(sum)\n",
    "teachers.rename(columns = {'number_of_eligible_teachers':'total_n',\n",
    "                          'number_of_teacher_respondents':'survey_n'}, inplace = True)\n",
    "teachers['survey_n'] = teachers['survey_n'].apply(lambda x: pd.to_numeric(x, errors='coerce'))"
   ]
  },
  {
   "cell_type": "markdown",
   "metadata": {},
   "source": [
    "## Recode questions and answers to make them comparable between Parents, Students, and Teachers"
   ]
  },
  {
   "cell_type": "markdown",
   "metadata": {},
   "source": [
    "As shown above, parents, students, and teachers are asked comparable questions relating to bullying/harassment. They are first asked about bullying/harassment in general, and then they are asked about bullying/harassment based on differences. We denote the first question `harass` and the second `harass_differences`.\n",
    "\n",
    "Note the question wording for teachers is slightly different, as teachers are asked about *conflicts* based on differences rather than harassment/bullying based on differences outright. This consideration is also mentioned in our analysis."
   ]
  },
  {
   "cell_type": "code",
   "execution_count": 88,
   "metadata": {
    "collapsed": true
   },
   "outputs": [],
   "source": [
    "def recode_question(series):\n",
    "    if '11d' in str(series) or '5e' in str(series) or '10j' in str(series) :\n",
    "        return \"harass_differences\"\n",
    "    else:\n",
    "        return \"harass\""
   ]
  },
  {
   "cell_type": "code",
   "execution_count": 89,
   "metadata": {
    "collapsed": true
   },
   "outputs": [],
   "source": [
    "students['question'] = students['question'].apply(recode_question)\n",
    "parents['question'] = parents['question'].apply(recode_question)\n",
    "teachers['question'] = teachers['question'].apply(recode_question)"
   ]
  },
  {
   "cell_type": "markdown",
   "metadata": {},
   "source": [
    "Parents and teachers answer on a 4-point disagreement/agreement scale, ranging from \"strongly disagree\" to \"strongly agree.\" We will recode these numerically from 1-4 in ascending agreement. Note that parents have a fifth category, \"don't know\", that we will recode to NaN. Students answer on a 4-point frequency scale, ranging from \"none of the time\" to \"all of the time.\" We will recode these numerically from 1-4 in ascending frequency."
   ]
  },
  {
   "cell_type": "code",
   "execution_count": 90,
   "metadata": {
    "collapsed": true
   },
   "outputs": [],
   "source": [
    "def recode_answers(series):\n",
    "    if series == 'strongly disagree':\n",
    "        return 1\n",
    "    elif series == 'disagree':\n",
    "        return 2\n",
    "    elif series == 'agree':\n",
    "        return 3\n",
    "    elif series == 'strongly agree':\n",
    "        return 4\n",
    "    elif series == \"don’t know\":\n",
    "        return np.nan\n",
    "    elif series == 'none of the time':\n",
    "        return 1\n",
    "    elif series == 'some of the time':\n",
    "        return 2\n",
    "    elif series == 'most of the time':\n",
    "        return 3\n",
    "    elif series == 'all of the time':\n",
    "        return 4"
   ]
  },
  {
   "cell_type": "markdown",
   "metadata": {},
   "source": [
    "## Merge Parent, Student, and Teacher surveys and calculate response percentages"
   ]
  },
  {
   "cell_type": "code",
   "execution_count": 91,
   "metadata": {},
   "outputs": [
    {
     "data": {
      "text/html": [
       "<div>\n",
       "<style>\n",
       "    .dataframe thead tr:only-child th {\n",
       "        text-align: right;\n",
       "    }\n",
       "\n",
       "    .dataframe thead th {\n",
       "        text-align: left;\n",
       "    }\n",
       "\n",
       "    .dataframe tbody tr th {\n",
       "        vertical-align: top;\n",
       "    }\n",
       "</style>\n",
       "<table border=\"1\" class=\"dataframe\">\n",
       "  <thead>\n",
       "    <tr style=\"text-align: right;\">\n",
       "      <th>answer</th>\n",
       "      <th>agree</th>\n",
       "      <th>all of the time</th>\n",
       "      <th>disagree</th>\n",
       "      <th>most of the time</th>\n",
       "      <th>none of the time</th>\n",
       "      <th>some of the time</th>\n",
       "      <th>strongly agree</th>\n",
       "      <th>strongly disagree</th>\n",
       "    </tr>\n",
       "    <tr>\n",
       "      <th>answer_code</th>\n",
       "      <th></th>\n",
       "      <th></th>\n",
       "      <th></th>\n",
       "      <th></th>\n",
       "      <th></th>\n",
       "      <th></th>\n",
       "      <th></th>\n",
       "      <th></th>\n",
       "    </tr>\n",
       "  </thead>\n",
       "  <tbody>\n",
       "    <tr>\n",
       "      <th>1</th>\n",
       "      <td>0</td>\n",
       "      <td>0</td>\n",
       "      <td>0</td>\n",
       "      <td>0</td>\n",
       "      <td>3568</td>\n",
       "      <td>0</td>\n",
       "      <td>0</td>\n",
       "      <td>7136</td>\n",
       "    </tr>\n",
       "    <tr>\n",
       "      <th>2</th>\n",
       "      <td>0</td>\n",
       "      <td>0</td>\n",
       "      <td>7136</td>\n",
       "      <td>0</td>\n",
       "      <td>0</td>\n",
       "      <td>3568</td>\n",
       "      <td>0</td>\n",
       "      <td>0</td>\n",
       "    </tr>\n",
       "    <tr>\n",
       "      <th>3</th>\n",
       "      <td>7136</td>\n",
       "      <td>0</td>\n",
       "      <td>0</td>\n",
       "      <td>3568</td>\n",
       "      <td>0</td>\n",
       "      <td>0</td>\n",
       "      <td>0</td>\n",
       "      <td>0</td>\n",
       "    </tr>\n",
       "    <tr>\n",
       "      <th>4</th>\n",
       "      <td>0</td>\n",
       "      <td>3568</td>\n",
       "      <td>0</td>\n",
       "      <td>0</td>\n",
       "      <td>0</td>\n",
       "      <td>0</td>\n",
       "      <td>7136</td>\n",
       "      <td>0</td>\n",
       "    </tr>\n",
       "  </tbody>\n",
       "</table>\n",
       "</div>"
      ],
      "text/plain": [
       "answer       agree  all of the time  disagree  most of the time  \\\n",
       "answer_code                                                       \n",
       "1                0                0         0                 0   \n",
       "2                0                0      7136                 0   \n",
       "3             7136                0         0              3568   \n",
       "4                0             3568         0                 0   \n",
       "\n",
       "answer       none of the time  some of the time  strongly agree  \\\n",
       "answer_code                                                       \n",
       "1                        3568                 0               0   \n",
       "2                           0              3568               0   \n",
       "3                           0                 0               0   \n",
       "4                           0                 0            7136   \n",
       "\n",
       "answer       strongly disagree  \n",
       "answer_code                     \n",
       "1                         7136  \n",
       "2                            0  \n",
       "3                            0  \n",
       "4                            0  "
      ]
     },
     "execution_count": 91,
     "metadata": {},
     "output_type": "execute_result"
    }
   ],
   "source": [
    "survey = students.append(parents).append(teachers)\n",
    "survey['answer_code'] = survey['answer'].apply(recode_answers)\n",
    "pd.crosstab(survey['answer_code'], survey['answer'], dropna = False) # check the mapping"
   ]
  },
  {
   "cell_type": "markdown",
   "metadata": {},
   "source": [
    "Change response values to NaN if nobody answered the question as they are currently displayed as \"0\", which is misleading."
   ]
  },
  {
   "cell_type": "code",
   "execution_count": 92,
   "metadata": {
    "collapsed": true
   },
   "outputs": [],
   "source": [
    "survey['value'] = np.where(survey['question_n'] == 0, np.nan, survey['value'])\n",
    "survey['perc'] = np.where(survey['question_n'] == 0, np.nan, survey['perc'])"
   ]
  },
  {
   "cell_type": "markdown",
   "metadata": {},
   "source": [
    "Calculate survey response rate (% who responded to the survey) and question response rate (% who responded to the question). Note for parents the question response rate is based on the TOTAL number of responses (including the Don't Knows)."
   ]
  },
  {
   "cell_type": "code",
   "execution_count": 93,
   "metadata": {
    "collapsed": true
   },
   "outputs": [],
   "source": [
    "survey['survey_rr'] = (survey['survey_n'] / survey['total_n']) * 100\n",
    "survey['survey_rr'] = np.where(survey['survey_rr'] > 100, 100, survey['survey_rr'])\n",
    "survey['question_rr'] = (survey['question_n'] / survey['survey_n']) * 100"
   ]
  },
  {
   "cell_type": "markdown",
   "metadata": {},
   "source": [
    "For each surveyed pouplation, calculate the percentages for that responded to the question (`perc`), based on the number of responses."
   ]
  },
  {
   "cell_type": "code",
   "execution_count": 94,
   "metadata": {
    "collapsed": true
   },
   "outputs": [],
   "source": [
    "survey['perc'] = np.where(survey['level'] == 'parents', survey['perc'],\n",
    "                          (survey['value'] / survey['question_n']) * 100)"
   ]
  },
  {
   "cell_type": "markdown",
   "metadata": {},
   "source": [
    "Calculate % of parents who responded in the \"don't know\" category."
   ]
  },
  {
   "cell_type": "code",
   "execution_count": 95,
   "metadata": {
    "collapsed": true
   },
   "outputs": [],
   "source": [
    "survey['dk_parents_perc'] = ((survey['question_n'] - survey['question_n_new'])/ survey['question_n'])*100 "
   ]
  },
  {
   "cell_type": "markdown",
   "metadata": {},
   "source": [
    "## Reshape the data to the \"wide\" format such that there are 4 rows per school for the 4 main response categories"
   ]
  },
  {
   "cell_type": "code",
   "execution_count": 97,
   "metadata": {
    "collapsed": true
   },
   "outputs": [],
   "source": [
    "survey_pivot = survey.pivot_table(index = ['dbn', 'school_name', 'answer_code'],\n",
    "                             columns = ['question', 'level'],\n",
    "                             values = ['perc', 'survey_rr', 'question_rr', 'survey_n', 'dk_parents_perc'],\n",
    "                             aggfunc ='mean')\n",
    "survey_pivot.columns = ['_'.join(str(s).strip() for s in col if s) for col in survey_pivot.columns]\n",
    "survey_pivot.reset_index(inplace = True)"
   ]
  },
  {
   "cell_type": "code",
   "execution_count": 100,
   "metadata": {
    "collapsed": true
   },
   "outputs": [],
   "source": [
    "survey_pivot['survey_n_parents'] = survey_pivot['survey_n_harass_parents']\n",
    "survey_pivot['survey_n_students'] = survey_pivot['survey_n_harass_students']\n",
    "survey_pivot['survey_n_teachers'] = survey_pivot['survey_n_harass_teachers']\n",
    "\n",
    "survey_pivot['survey_rr_parents'] = survey_pivot['survey_rr_harass_parents']\n",
    "survey_pivot['survey_rr_students'] = survey_pivot['survey_rr_harass_students']\n",
    "survey_pivot['survey_rr_teachers'] = survey_pivot['survey_rr_harass_teachers']\n",
    "\n",
    "survey_pivot.drop([c for c in survey_pivot.columns if ('survey_rr_harass_' in c) | ('survey_n_harass_' in c)], axis = 1, inplace = True)"
   ]
  },
  {
   "cell_type": "code",
   "execution_count": 102,
   "metadata": {},
   "outputs": [
    {
     "data": {
      "text/html": [
       "<div>\n",
       "<style>\n",
       "    .dataframe thead tr:only-child th {\n",
       "        text-align: right;\n",
       "    }\n",
       "\n",
       "    .dataframe thead th {\n",
       "        text-align: left;\n",
       "    }\n",
       "\n",
       "    .dataframe tbody tr th {\n",
       "        vertical-align: top;\n",
       "    }\n",
       "</style>\n",
       "<table border=\"1\" class=\"dataframe\">\n",
       "  <thead>\n",
       "    <tr style=\"text-align: right;\">\n",
       "      <th></th>\n",
       "      <th>dbn</th>\n",
       "      <th>school_name</th>\n",
       "      <th>answer_code</th>\n",
       "      <th>dk_parents_perc_harass_parents</th>\n",
       "      <th>dk_parents_perc_harass_differences_parents</th>\n",
       "      <th>perc_harass_parents</th>\n",
       "      <th>perc_harass_students</th>\n",
       "      <th>perc_harass_teachers</th>\n",
       "      <th>perc_harass_differences_parents</th>\n",
       "      <th>perc_harass_differences_students</th>\n",
       "      <th>...</th>\n",
       "      <th>question_rr_harass_teachers</th>\n",
       "      <th>question_rr_harass_differences_parents</th>\n",
       "      <th>question_rr_harass_differences_students</th>\n",
       "      <th>question_rr_harass_differences_teachers</th>\n",
       "      <th>survey_n_parents</th>\n",
       "      <th>survey_n_students</th>\n",
       "      <th>survey_n_teachers</th>\n",
       "      <th>survey_rr_parents</th>\n",
       "      <th>survey_rr_students</th>\n",
       "      <th>survey_rr_teachers</th>\n",
       "    </tr>\n",
       "  </thead>\n",
       "  <tbody>\n",
       "    <tr>\n",
       "      <th>0</th>\n",
       "      <td>01M015</td>\n",
       "      <td>P.S. 015 Roberto Clemente</td>\n",
       "      <td>1</td>\n",
       "      <td>20.000000</td>\n",
       "      <td>26.562500</td>\n",
       "      <td>54.166667</td>\n",
       "      <td>NaN</td>\n",
       "      <td>36.363636</td>\n",
       "      <td>63.829787</td>\n",
       "      <td>NaN</td>\n",
       "      <td>...</td>\n",
       "      <td>100.0</td>\n",
       "      <td>96.969697</td>\n",
       "      <td>NaN</td>\n",
       "      <td>100.0</td>\n",
       "      <td>66.0</td>\n",
       "      <td>0.0</td>\n",
       "      <td>22.0</td>\n",
       "      <td>44.295302</td>\n",
       "      <td>NaN</td>\n",
       "      <td>91.666667</td>\n",
       "    </tr>\n",
       "    <tr>\n",
       "      <th>1</th>\n",
       "      <td>01M015</td>\n",
       "      <td>P.S. 015 Roberto Clemente</td>\n",
       "      <td>2</td>\n",
       "      <td>20.000000</td>\n",
       "      <td>26.562500</td>\n",
       "      <td>16.666667</td>\n",
       "      <td>NaN</td>\n",
       "      <td>54.545455</td>\n",
       "      <td>17.021277</td>\n",
       "      <td>NaN</td>\n",
       "      <td>...</td>\n",
       "      <td>100.0</td>\n",
       "      <td>96.969697</td>\n",
       "      <td>NaN</td>\n",
       "      <td>100.0</td>\n",
       "      <td>66.0</td>\n",
       "      <td>0.0</td>\n",
       "      <td>22.0</td>\n",
       "      <td>44.295302</td>\n",
       "      <td>NaN</td>\n",
       "      <td>91.666667</td>\n",
       "    </tr>\n",
       "    <tr>\n",
       "      <th>2</th>\n",
       "      <td>01M015</td>\n",
       "      <td>P.S. 015 Roberto Clemente</td>\n",
       "      <td>3</td>\n",
       "      <td>20.000000</td>\n",
       "      <td>26.562500</td>\n",
       "      <td>14.583333</td>\n",
       "      <td>NaN</td>\n",
       "      <td>9.090909</td>\n",
       "      <td>6.382979</td>\n",
       "      <td>NaN</td>\n",
       "      <td>...</td>\n",
       "      <td>100.0</td>\n",
       "      <td>96.969697</td>\n",
       "      <td>NaN</td>\n",
       "      <td>100.0</td>\n",
       "      <td>66.0</td>\n",
       "      <td>0.0</td>\n",
       "      <td>22.0</td>\n",
       "      <td>44.295302</td>\n",
       "      <td>NaN</td>\n",
       "      <td>91.666667</td>\n",
       "    </tr>\n",
       "    <tr>\n",
       "      <th>3</th>\n",
       "      <td>01M015</td>\n",
       "      <td>P.S. 015 Roberto Clemente</td>\n",
       "      <td>4</td>\n",
       "      <td>20.000000</td>\n",
       "      <td>26.562500</td>\n",
       "      <td>14.583333</td>\n",
       "      <td>NaN</td>\n",
       "      <td>0.000000</td>\n",
       "      <td>12.765957</td>\n",
       "      <td>NaN</td>\n",
       "      <td>...</td>\n",
       "      <td>100.0</td>\n",
       "      <td>96.969697</td>\n",
       "      <td>NaN</td>\n",
       "      <td>100.0</td>\n",
       "      <td>66.0</td>\n",
       "      <td>0.0</td>\n",
       "      <td>22.0</td>\n",
       "      <td>44.295302</td>\n",
       "      <td>NaN</td>\n",
       "      <td>91.666667</td>\n",
       "    </tr>\n",
       "    <tr>\n",
       "      <th>4</th>\n",
       "      <td>01M019</td>\n",
       "      <td>P.S. 019 Asher Levy</td>\n",
       "      <td>1</td>\n",
       "      <td>19.917012</td>\n",
       "      <td>22.362869</td>\n",
       "      <td>35.751295</td>\n",
       "      <td>NaN</td>\n",
       "      <td>54.054054</td>\n",
       "      <td>41.304348</td>\n",
       "      <td>NaN</td>\n",
       "      <td>...</td>\n",
       "      <td>100.0</td>\n",
       "      <td>96.734694</td>\n",
       "      <td>NaN</td>\n",
       "      <td>100.0</td>\n",
       "      <td>245.0</td>\n",
       "      <td>0.0</td>\n",
       "      <td>37.0</td>\n",
       "      <td>100.000000</td>\n",
       "      <td>NaN</td>\n",
       "      <td>97.368421</td>\n",
       "    </tr>\n",
       "  </tbody>\n",
       "</table>\n",
       "<p>5 rows × 23 columns</p>\n",
       "</div>"
      ],
      "text/plain": [
       "      dbn                school_name  answer_code  \\\n",
       "0  01M015  P.S. 015 Roberto Clemente            1   \n",
       "1  01M015  P.S. 015 Roberto Clemente            2   \n",
       "2  01M015  P.S. 015 Roberto Clemente            3   \n",
       "3  01M015  P.S. 015 Roberto Clemente            4   \n",
       "4  01M019        P.S. 019 Asher Levy            1   \n",
       "\n",
       "   dk_parents_perc_harass_parents  dk_parents_perc_harass_differences_parents  \\\n",
       "0                       20.000000                                   26.562500   \n",
       "1                       20.000000                                   26.562500   \n",
       "2                       20.000000                                   26.562500   \n",
       "3                       20.000000                                   26.562500   \n",
       "4                       19.917012                                   22.362869   \n",
       "\n",
       "   perc_harass_parents  perc_harass_students  perc_harass_teachers  \\\n",
       "0            54.166667                   NaN             36.363636   \n",
       "1            16.666667                   NaN             54.545455   \n",
       "2            14.583333                   NaN              9.090909   \n",
       "3            14.583333                   NaN              0.000000   \n",
       "4            35.751295                   NaN             54.054054   \n",
       "\n",
       "   perc_harass_differences_parents  perc_harass_differences_students  \\\n",
       "0                        63.829787                               NaN   \n",
       "1                        17.021277                               NaN   \n",
       "2                         6.382979                               NaN   \n",
       "3                        12.765957                               NaN   \n",
       "4                        41.304348                               NaN   \n",
       "\n",
       "          ...          question_rr_harass_teachers  \\\n",
       "0         ...                                100.0   \n",
       "1         ...                                100.0   \n",
       "2         ...                                100.0   \n",
       "3         ...                                100.0   \n",
       "4         ...                                100.0   \n",
       "\n",
       "   question_rr_harass_differences_parents  \\\n",
       "0                               96.969697   \n",
       "1                               96.969697   \n",
       "2                               96.969697   \n",
       "3                               96.969697   \n",
       "4                               96.734694   \n",
       "\n",
       "   question_rr_harass_differences_students  \\\n",
       "0                                      NaN   \n",
       "1                                      NaN   \n",
       "2                                      NaN   \n",
       "3                                      NaN   \n",
       "4                                      NaN   \n",
       "\n",
       "   question_rr_harass_differences_teachers  survey_n_parents  \\\n",
       "0                                    100.0              66.0   \n",
       "1                                    100.0              66.0   \n",
       "2                                    100.0              66.0   \n",
       "3                                    100.0              66.0   \n",
       "4                                    100.0             245.0   \n",
       "\n",
       "   survey_n_students  survey_n_teachers  survey_rr_parents  \\\n",
       "0                0.0               22.0          44.295302   \n",
       "1                0.0               22.0          44.295302   \n",
       "2                0.0               22.0          44.295302   \n",
       "3                0.0               22.0          44.295302   \n",
       "4                0.0               37.0         100.000000   \n",
       "\n",
       "   survey_rr_students  survey_rr_teachers  \n",
       "0                 NaN           91.666667  \n",
       "1                 NaN           91.666667  \n",
       "2                 NaN           91.666667  \n",
       "3                 NaN           91.666667  \n",
       "4                 NaN           97.368421  \n",
       "\n",
       "[5 rows x 23 columns]"
      ]
     },
     "execution_count": 102,
     "metadata": {},
     "output_type": "execute_result"
    }
   ],
   "source": [
    "survey_pivot.head()"
   ]
  },
  {
   "cell_type": "markdown",
   "metadata": {},
   "source": [
    "## Save cleaned data"
   ]
  },
  {
   "cell_type": "markdown",
   "metadata": {},
   "source": [
    "Save the `survey_pivot` dataframe, which represents the cleaned NYC School Survey data, to a [feather](https://blog.cloudera.com/blog/2016/03/feather-a-fast-on-disk-format-for-data-frames-for-r-and-python-powered-by-apache-arrow/) file in the `data/intermediate` folder."
   ]
  },
  {
   "cell_type": "code",
   "execution_count": 110,
   "metadata": {
    "collapsed": true
   },
   "outputs": [],
   "source": [
    "survey_pivot.to_feather(os.path.join(intermediate_dir, 'nyc_survey_wide.feather'))"
   ]
  }
 ],
 "metadata": {
  "kernelspec": {
   "display_name": "Python 3",
   "language": "python",
   "name": "python3"
  },
  "language_info": {
   "codemirror_mode": {
    "name": "ipython",
    "version": 3
   },
   "file_extension": ".py",
   "mimetype": "text/x-python",
   "name": "python",
   "nbconvert_exporter": "python",
   "pygments_lexer": "ipython3",
   "version": "3.5.4"
  }
 },
 "nbformat": 4,
 "nbformat_minor": 2
}
