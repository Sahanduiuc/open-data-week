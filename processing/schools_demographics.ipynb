{
 "cells": [
  {
   "cell_type": "markdown",
   "metadata": {},
   "source": [
    "# School demographics"
   ]
  },
  {
   "cell_type": "markdown",
   "metadata": {},
   "source": [
    "This notebook loads and cleans school enrollment and demographic data from the annual enrollment snapshots produced by the New York City Department of Education."
   ]
  },
  {
   "cell_type": "markdown",
   "metadata": {},
   "source": [
    "## Import Python libraries and set working directories"
   ]
  },
  {
   "cell_type": "code",
   "execution_count": 1,
   "metadata": {
    "collapsed": true
   },
   "outputs": [],
   "source": [
    "import os\n",
    "import feather\n",
    "import numpy as np\n",
    "import pandas as pd"
   ]
  },
  {
   "cell_type": "code",
   "execution_count": 2,
   "metadata": {
    "collapsed": true
   },
   "outputs": [],
   "source": [
    "input_dir = os.path.join(os.path.dirname(os.getcwd()), 'data', 'input')\n",
    "intermediate_dir = os.path.join(os.path.dirname(os.getcwd()), 'data', 'intermediate')\n",
    "output_dir = os.path.join(os.path.dirname(os.getcwd()), 'data', 'output')"
   ]
  },
  {
   "cell_type": "markdown",
   "metadata": {},
   "source": [
    "## Load data and select relevant variables"
   ]
  },
  {
   "cell_type": "markdown",
   "metadata": {},
   "source": [
    "The [raw file](http://schools.nyc.gov/NR/rdonlyres/77954FB0-FD24-476B-AB81-3E9BBE8655D9/213559/DemographicSnapshot201213to201617Public_FINAL1.xlsx) comes from the NYC Department of Education (NYCDOE), available [here](http://schools.nyc.gov/Accountability/data/default.htm)."
   ]
  },
  {
   "cell_type": "code",
   "execution_count": 6,
   "metadata": {
    "collapsed": true
   },
   "outputs": [],
   "source": [
    "demographics = pd.read_excel(\n",
    "    os.path.join(input_dir, 'DemographicSnapshot201213to201617Public_FINAL1.xlsx'), \n",
    "    sheetname = 'School'\n",
    ")\n",
    "\n",
    "demographics.columns = demographics.columns.str.lower()\n",
    "demographics.columns = demographics.columns.str.replace(' ', '_')\n",
    "demographics.columns = demographics.columns.str.replace('%', 'perc')\n",
    "demographics.drop([c for c in demographics.columns if ('grade' in c) | ('#' in c) | ('index' in c)], axis = 1, inplace = True)\n",
    "percent_vars = [c for c in demographics.columns if 'perc' in c]\n",
    "\n",
    "for var in percent_vars :\n",
    "    demographics[var] = demographics[var] * 100\n",
    "\n",
    "demographics = demographics.loc[demographics['year'] == '2013-14']\n",
    "\n",
    "demographics.rename(columns = {'perc_multiple_race_categories_not_represented':'perc_multiple_other',\n",
    "                              'perc_poverty':'perc_free_lunch'}, inplace = True)\n",
    "\n",
    "demographics.drop(['year'], axis = 1, inplace = True)\n",
    "demographics.reset_index(inplace = True, drop = True)"
   ]
  },
  {
   "cell_type": "markdown",
   "metadata": {},
   "source": [
    "## Save data"
   ]
  },
  {
   "cell_type": "markdown",
   "metadata": {},
   "source": [
    "Save the `demographics` dataframe to a [feather](https://blog.cloudera.com/blog/2016/03/feather-a-fast-on-disk-format-for-data-frames-for-r-and-python-powered-by-apache-arrow/) file in the `data/intermediate` folder."
   ]
  },
  {
   "cell_type": "code",
   "execution_count": 7,
   "metadata": {
    "collapsed": true
   },
   "outputs": [],
   "source": [
    "demographics.to_feather(os.path.join(intermediate_dir, 'df_demographics.feather'))"
   ]
  }
 ],
 "metadata": {
  "kernelspec": {
   "display_name": "Python 3",
   "language": "python",
   "name": "python3"
  },
  "language_info": {
   "codemirror_mode": {
    "name": "ipython",
    "version": 3
   },
   "file_extension": ".py",
   "mimetype": "text/x-python",
   "name": "python",
   "nbconvert_exporter": "python",
   "pygments_lexer": "ipython3",
   "version": "3.5.4"
  }
 },
 "nbformat": 4,
 "nbformat_minor": 2
}
