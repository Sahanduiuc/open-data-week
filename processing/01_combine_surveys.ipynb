{
 "cells": [
  {
   "cell_type": "markdown",
   "metadata": {},
   "source": [
    "# Combining the NYC School Survey with the federal Civil Rights survey"
   ]
  },
  {
   "cell_type": "markdown",
   "metadata": {},
   "source": [
    "This notebook documents how we combined the NYC School Survey from the NYC Deparment of Education with the federal Civil Rights Data Collection survey from the U.S. Department of Education for our analysis of bullying/harassment during the 2013-14 school year in NYC public schools."
   ]
  },
  {
   "cell_type": "markdown",
   "metadata": {},
   "source": [
    "## Import Python libraries and set working directories"
   ]
  },
  {
   "cell_type": "code",
   "execution_count": 2,
   "metadata": {
    "collapsed": true
   },
   "outputs": [],
   "source": [
    "import os\n",
    "import feather\n",
    "import numpy as np\n",
    "import pandas as pd\n",
    "import zipfile"
   ]
  },
  {
   "cell_type": "code",
   "execution_count": 13,
   "metadata": {
    "collapsed": false
   },
   "outputs": [],
   "source": [
    "input_dir = os.path.join(os.path.dirname(os.getcwd()), 'data', 'input')\n",
    "intermediate_dir = os.path.join(os.path.dirname(os.getcwd()), 'data', 'intermediate')\n",
    "output_dir = os.path.join(os.path.dirname(os.getcwd()), 'data', 'output')\n",
    "data_dir = os.path.join(os.path.dirname(os.getcwd()), 'data')"
   ]
  },
  {
   "cell_type": "markdown",
   "metadata": {},
   "source": [
    "The files in input.zip must first be unzipped to run this notebook."
   ]
  },
  {
   "cell_type": "code",
   "execution_count": 16,
   "metadata": {
    "collapsed": false
   },
   "outputs": [],
   "source": [
    "with zipfile.ZipFile(os.path.join(data_dir, 'input.zip'), 'r') as zip_ref:\n",
    "    zip_ref.extractall(data_dir)"
   ]
  },
  {
   "cell_type": "markdown",
   "metadata": {},
   "source": [
    "## Run survey processing notebooks"
   ]
  },
  {
   "cell_type": "markdown",
   "metadata": {},
   "source": [
    "Run the processing notebooks for both surveys:"
   ]
  },
  {
   "cell_type": "code",
   "execution_count": 3,
   "metadata": {
    "collapsed": true
   },
   "outputs": [],
   "source": [
    "%%capture\n",
    "%run nyc_school_survey.ipynb\n",
    "%run federal_civil_rights_survey.ipynb"
   ]
  },
  {
   "cell_type": "markdown",
   "metadata": {},
   "source": [
    "## Create a crosswalk between the different school IDs, used at different levels of government: local NYC (`DBN`) to federal (`combokey`)"
   ]
  },
  {
   "cell_type": "markdown",
   "metadata": {},
   "source": [
    "The `DBN` code is used to uniquely identify schools in the NYC School Survey, while the `combokey` used in the federal Civil Rights Data Collection. Since we're only looking to combine NYC schools, we'll start with the NYC School Survey `DBN` codes:"
   ]
  },
  {
   "cell_type": "markdown",
   "metadata": {},
   "source": [
    "## Local (`DBN`)"
   ]
  },
  {
   "cell_type": "markdown",
   "metadata": {},
   "source": [
    "The NYC Department of Education (NYCDOE) uses a **6-digit alphanumeric `DBN` (District Borough Number),** to identify schools. The code begins with the school's district number (2 digits), then the borough code (1 letter: K = Brooklyn; X = Bronx; Q = Queens; M = Manhattan; R = Staten Island), then the school code (3 digits).\n",
    "\n",
    "Let's take a look at one of the intermediate files we created in `nyc_school_survey.ipynb` to see this in action:"
   ]
  },
  {
   "cell_type": "code",
   "execution_count": 4,
   "metadata": {
    "collapsed": false
   },
   "outputs": [
    {
     "data": {
      "text/html": [
       "<div>\n",
       "<style>\n",
       "    .dataframe thead tr:only-child th {\n",
       "        text-align: right;\n",
       "    }\n",
       "\n",
       "    .dataframe thead th {\n",
       "        text-align: left;\n",
       "    }\n",
       "\n",
       "    .dataframe tbody tr th {\n",
       "        vertical-align: top;\n",
       "    }\n",
       "</style>\n",
       "<table border=\"1\" class=\"dataframe\">\n",
       "  <thead>\n",
       "    <tr style=\"text-align: right;\">\n",
       "      <th></th>\n",
       "      <th>DBN</th>\n",
       "      <th>School Name</th>\n",
       "    </tr>\n",
       "  </thead>\n",
       "  <tbody>\n",
       "    <tr>\n",
       "      <th>0</th>\n",
       "      <td>01M015</td>\n",
       "      <td>P.S. 015 Roberto Clemente</td>\n",
       "    </tr>\n",
       "    <tr>\n",
       "      <th>1</th>\n",
       "      <td>01M019</td>\n",
       "      <td>P.S. 019 Asher Levy</td>\n",
       "    </tr>\n",
       "    <tr>\n",
       "      <th>2</th>\n",
       "      <td>01M020</td>\n",
       "      <td>P.S. 020 Anna Silver</td>\n",
       "    </tr>\n",
       "    <tr>\n",
       "      <th>3</th>\n",
       "      <td>01M034</td>\n",
       "      <td>P.S. 034 Franklin D. Roosevelt</td>\n",
       "    </tr>\n",
       "    <tr>\n",
       "      <th>4</th>\n",
       "      <td>01M063</td>\n",
       "      <td>The STAR Academy - P.S.63</td>\n",
       "    </tr>\n",
       "  </tbody>\n",
       "</table>\n",
       "</div>"
      ],
      "text/plain": [
       "      DBN                     School Name\n",
       "0  01M015       P.S. 015 Roberto Clemente\n",
       "1  01M019             P.S. 019 Asher Levy\n",
       "2  01M020            P.S. 020 Anna Silver\n",
       "3  01M034  P.S. 034 Franklin D. Roosevelt\n",
       "4  01M063       The STAR Academy - P.S.63"
      ]
     },
     "execution_count": 4,
     "metadata": {},
     "output_type": "execute_result"
    }
   ],
   "source": [
    "df_nyc = pd.read_feather(\n",
    "    os.path.join(intermediate_dir, 'nyc_survey_ids.feather')\n",
    ")\n",
    "\n",
    "df_nyc.head()"
   ]
  },
  {
   "cell_type": "markdown",
   "metadata": {},
   "source": [
    "## Local (`DBN`) to State (`BEDS`)"
   ]
  },
  {
   "cell_type": "markdown",
   "metadata": {},
   "source": [
    "`DBN` IDs are unique to New York City's data collection system. In order to link them to the federal school IDs, we will first need to link them to the state school IDs.\n",
    "\n",
    "The New York State Education Department (NYSED) uses a **12-digit `BEDS` (Basic Educational Data System) number** to identify schools.\n",
    "\n",
    "The NYC Open Data Portal provides a 2013-2014 School Locations [file](https://data.cityofnewyork.us/Education/2013-2014-School-Locations/ac4n-c5re), which identifies schools using both the 12-digit BEDS number as well as a **6-digit `ATS` (Automate the Schools) code**. For the NYC schools in our dataset, the `ATS` is the same number as the `DBN`, so we can use this file to link the `DBN` to the `BEDS` for each school. For more information on the ATS and DBN systems, see NYCDOE's report, [\"A collection of Acronyms and Jargon\"](http://schools.nyc.gov/NR/rdonlyres/0C56D9B8-8DDB-46B8-AA5F-BF77AE8C2803/0/ACRONYMReferenceGuide.pdf) (last updated February 7, 2018). "
   ]
  },
  {
   "cell_type": "code",
   "execution_count": 5,
   "metadata": {
    "collapsed": true
   },
   "outputs": [],
   "source": [
    "df_beds = pd.read_csv(\n",
    "    os.path.join(input_dir, '2013_-_2014_School_Locations.csv'), \n",
    "    dtype = str\n",
    ")\n",
    "\n",
    "df_beds.columns = df_beds.columns.str.lower()"
   ]
  },
  {
   "cell_type": "markdown",
   "metadata": {},
   "source": [
    "Remove some trailing spaces in the `ats system code` column and select relevant columns"
   ]
  },
  {
   "cell_type": "code",
   "execution_count": 6,
   "metadata": {
    "collapsed": false
   },
   "outputs": [
    {
     "data": {
      "text/html": [
       "<div>\n",
       "<style>\n",
       "    .dataframe thead tr:only-child th {\n",
       "        text-align: right;\n",
       "    }\n",
       "\n",
       "    .dataframe thead th {\n",
       "        text-align: left;\n",
       "    }\n",
       "\n",
       "    .dataframe tbody tr th {\n",
       "        vertical-align: top;\n",
       "    }\n",
       "</style>\n",
       "<table border=\"1\" class=\"dataframe\">\n",
       "  <thead>\n",
       "    <tr style=\"text-align: right;\">\n",
       "      <th></th>\n",
       "      <th>ats system code</th>\n",
       "      <th>beds number</th>\n",
       "      <th>location_name</th>\n",
       "      <th>primary_address_line_1</th>\n",
       "    </tr>\n",
       "  </thead>\n",
       "  <tbody>\n",
       "    <tr>\n",
       "      <th>0</th>\n",
       "      <td>01M015</td>\n",
       "      <td>310100010015</td>\n",
       "      <td>P.S. 015 Roberto Clemente</td>\n",
       "      <td>333 EAST  4 STREET</td>\n",
       "    </tr>\n",
       "    <tr>\n",
       "      <th>1</th>\n",
       "      <td>01M019</td>\n",
       "      <td>310100010019</td>\n",
       "      <td>P.S. 019 Asher Levy</td>\n",
       "      <td>185 1 AVENUE</td>\n",
       "    </tr>\n",
       "    <tr>\n",
       "      <th>2</th>\n",
       "      <td>01M020</td>\n",
       "      <td>310100010020</td>\n",
       "      <td>P.S. 020 Anna Silver</td>\n",
       "      <td>166 ESSEX STREET</td>\n",
       "    </tr>\n",
       "    <tr>\n",
       "      <th>3</th>\n",
       "      <td>01M034</td>\n",
       "      <td>310100010034</td>\n",
       "      <td>P.S. 034 Franklin D. Roosevelt</td>\n",
       "      <td>730 EAST  12 STREET</td>\n",
       "    </tr>\n",
       "    <tr>\n",
       "      <th>4</th>\n",
       "      <td>01M063</td>\n",
       "      <td>310100010063</td>\n",
       "      <td>The STAR Academy - P.S.63</td>\n",
       "      <td>121 EAST  3 STREET</td>\n",
       "    </tr>\n",
       "  </tbody>\n",
       "</table>\n",
       "</div>"
      ],
      "text/plain": [
       "  ats system code   beds number                   location_name  \\\n",
       "0          01M015  310100010015       P.S. 015 Roberto Clemente   \n",
       "1          01M019  310100010019             P.S. 019 Asher Levy   \n",
       "2          01M020  310100010020            P.S. 020 Anna Silver   \n",
       "3          01M034  310100010034  P.S. 034 Franklin D. Roosevelt   \n",
       "4          01M063  310100010063       The STAR Academy - P.S.63   \n",
       "\n",
       "  primary_address_line_1  \n",
       "0     333 EAST  4 STREET  \n",
       "1           185 1 AVENUE  \n",
       "2       166 ESSEX STREET  \n",
       "3    730 EAST  12 STREET  \n",
       "4     121 EAST  3 STREET  "
      ]
     },
     "execution_count": 6,
     "metadata": {},
     "output_type": "execute_result"
    }
   ],
   "source": [
    "df_beds['ats system code'] = df_beds['ats system code'].str.strip()\n",
    "df_beds = df_beds[['ats system code', 'beds number', 'location_name', 'primary_address_line_1']]\n",
    "df_beds.head()"
   ]
  },
  {
   "cell_type": "markdown",
   "metadata": {},
   "source": [
    "Merge this dataframe with the `df_nyc` dataframe in order to map `DBN` to `beds number`"
   ]
  },
  {
   "cell_type": "code",
   "execution_count": 7,
   "metadata": {
    "collapsed": true
   },
   "outputs": [],
   "source": [
    "df_nyc_beds = pd.merge(df_nyc, \n",
    "                          df_beds, \n",
    "                          left_on = 'DBN', \n",
    "                          right_on = 'ats system code', \n",
    "                          how = 'left', \n",
    "                          indicator = True)"
   ]
  },
  {
   "cell_type": "markdown",
   "metadata": {},
   "source": [
    "Most of the unmatched schools include YABC (Young Adult Borough Centers), which are evening programs for high schoolers at-risk of dropping out."
   ]
  },
  {
   "cell_type": "code",
   "execution_count": 8,
   "metadata": {
    "collapsed": false
   },
   "outputs": [
    {
     "data": {
      "text/plain": [
       "both          1754\n",
       "left_only       30\n",
       "right_only       0\n",
       "Name: _merge, dtype: int64"
      ]
     },
     "execution_count": 8,
     "metadata": {},
     "output_type": "execute_result"
    }
   ],
   "source": [
    "df_nyc_beds._merge.value_counts()"
   ]
  },
  {
   "cell_type": "code",
   "execution_count": 9,
   "metadata": {
    "collapsed": false
   },
   "outputs": [
    {
     "data": {
      "text/plain": [
       "array(['Washington Irving Yabc', 'George Washington Yabc',\n",
       "       'Alfred E. Smith Campus YABC', 'Herbert H. Lehman Yabc',\n",
       "       'Stevenson Yabc', 'Walton Yabc', 'Kennedy Yabc', 'Grace Dodge Yabc',\n",
       "       'C Columbus Hs Yabc', 'Learning To Work Yabc At Monroe Academy',\n",
       "       'Downtown Brooklyn Yabc', 'Automotive High School Yabc',\n",
       "       \"P.S. 372 -The Children's School\", 'BOYS AND GIRLS YABC',\n",
       "       'Erasmus Yabc', 'South Shore Educational Complex Yabc',\n",
       "       'Thomas Jefferson Yabc', 'Franklin K. Lane Campus YABC',\n",
       "       'Franklin Delano Roosevelt YABC', 'Abraham Lincoln Yabc',\n",
       "       'HS Arts & Business Yabc', 'Flushing Yabc', 'John Adams Yabc',\n",
       "       'Staten Island Yabc', 'Achievement First High School',\n",
       "       'Uncommmon Charter HS 2', 'Achievement First University Prep',\n",
       "       'Uncommon Charter HS', 'Harlem Village Academy HS',\n",
       "       'KIPP NYC College Prep'], dtype=object)"
      ]
     },
     "execution_count": 9,
     "metadata": {},
     "output_type": "execute_result"
    }
   ],
   "source": [
    "df_nyc_beds.loc[df_nyc_beds['_merge'] == 'left_only']['School Name'].values"
   ]
  },
  {
   "cell_type": "markdown",
   "metadata": {},
   "source": [
    "These, along with a couple of charter schools (e.g., Uncommon Charter HS 2) and special education schools (e.g., P.S. 372 - The Children's School), will not be included in our final analysis."
   ]
  },
  {
   "cell_type": "code",
   "execution_count": 10,
   "metadata": {
    "collapsed": true
   },
   "outputs": [],
   "source": [
    "df_nyc_beds = df_nyc_beds.loc[df_nyc_beds['_merge'] == 'both']\n",
    "df_nyc_beds.drop(['_merge', 'ats system code'], axis = 1, inplace = True)"
   ]
  },
  {
   "cell_type": "markdown",
   "metadata": {},
   "source": [
    "Now we have a dataset with both a `DBN` code and a `beds number` for each school."
   ]
  },
  {
   "cell_type": "code",
   "execution_count": 11,
   "metadata": {
    "collapsed": false
   },
   "outputs": [
    {
     "data": {
      "text/html": [
       "<div>\n",
       "<style>\n",
       "    .dataframe thead tr:only-child th {\n",
       "        text-align: right;\n",
       "    }\n",
       "\n",
       "    .dataframe thead th {\n",
       "        text-align: left;\n",
       "    }\n",
       "\n",
       "    .dataframe tbody tr th {\n",
       "        vertical-align: top;\n",
       "    }\n",
       "</style>\n",
       "<table border=\"1\" class=\"dataframe\">\n",
       "  <thead>\n",
       "    <tr style=\"text-align: right;\">\n",
       "      <th></th>\n",
       "      <th>DBN</th>\n",
       "      <th>School Name</th>\n",
       "      <th>beds number</th>\n",
       "      <th>location_name</th>\n",
       "      <th>primary_address_line_1</th>\n",
       "    </tr>\n",
       "  </thead>\n",
       "  <tbody>\n",
       "    <tr>\n",
       "      <th>0</th>\n",
       "      <td>01M015</td>\n",
       "      <td>P.S. 015 Roberto Clemente</td>\n",
       "      <td>310100010015</td>\n",
       "      <td>P.S. 015 Roberto Clemente</td>\n",
       "      <td>333 EAST  4 STREET</td>\n",
       "    </tr>\n",
       "    <tr>\n",
       "      <th>1</th>\n",
       "      <td>01M019</td>\n",
       "      <td>P.S. 019 Asher Levy</td>\n",
       "      <td>310100010019</td>\n",
       "      <td>P.S. 019 Asher Levy</td>\n",
       "      <td>185 1 AVENUE</td>\n",
       "    </tr>\n",
       "    <tr>\n",
       "      <th>2</th>\n",
       "      <td>01M020</td>\n",
       "      <td>P.S. 020 Anna Silver</td>\n",
       "      <td>310100010020</td>\n",
       "      <td>P.S. 020 Anna Silver</td>\n",
       "      <td>166 ESSEX STREET</td>\n",
       "    </tr>\n",
       "    <tr>\n",
       "      <th>3</th>\n",
       "      <td>01M034</td>\n",
       "      <td>P.S. 034 Franklin D. Roosevelt</td>\n",
       "      <td>310100010034</td>\n",
       "      <td>P.S. 034 Franklin D. Roosevelt</td>\n",
       "      <td>730 EAST  12 STREET</td>\n",
       "    </tr>\n",
       "    <tr>\n",
       "      <th>4</th>\n",
       "      <td>01M063</td>\n",
       "      <td>The STAR Academy - P.S.63</td>\n",
       "      <td>310100010063</td>\n",
       "      <td>The STAR Academy - P.S.63</td>\n",
       "      <td>121 EAST  3 STREET</td>\n",
       "    </tr>\n",
       "  </tbody>\n",
       "</table>\n",
       "</div>"
      ],
      "text/plain": [
       "      DBN                     School Name   beds number  \\\n",
       "0  01M015       P.S. 015 Roberto Clemente  310100010015   \n",
       "1  01M019             P.S. 019 Asher Levy  310100010019   \n",
       "2  01M020            P.S. 020 Anna Silver  310100010020   \n",
       "3  01M034  P.S. 034 Franklin D. Roosevelt  310100010034   \n",
       "4  01M063       The STAR Academy - P.S.63  310100010063   \n",
       "\n",
       "                    location_name primary_address_line_1  \n",
       "0       P.S. 015 Roberto Clemente     333 EAST  4 STREET  \n",
       "1             P.S. 019 Asher Levy           185 1 AVENUE  \n",
       "2            P.S. 020 Anna Silver       166 ESSEX STREET  \n",
       "3  P.S. 034 Franklin D. Roosevelt    730 EAST  12 STREET  \n",
       "4       The STAR Academy - P.S.63     121 EAST  3 STREET  "
      ]
     },
     "execution_count": 11,
     "metadata": {},
     "output_type": "execute_result"
    }
   ],
   "source": [
    "df_nyc_beds.head()"
   ]
  },
  {
   "cell_type": "markdown",
   "metadata": {},
   "source": [
    "## State (`BEDS`) to Federal (`NCESSCH`)"
   ]
  },
  {
   "cell_type": "markdown",
   "metadata": {},
   "source": [
    "The National Center of Education Statistics (NCES), part of the U.S. Department of Education (ED), is the [\"primary federal entity for collecting and analyzing data related to education in the U.S. and other nations\"](https://nces.ed.gov/about/). NCES identifies schools using a 12-digit code known as the NCES id or `NCESSCH`. The school universe data [file](https://nces.ed.gov/ccd/Data/zip/EDGE_GEOIDS_201415_PUBLIC_SCHOOL_csv.zip) for the 2013-14 school year, along with files for previous years, can be found on the NCES's Common Core of Data [website](https://nces.ed.gov/ccd/pubschuniv.asp)."
   ]
  },
  {
   "cell_type": "code",
   "execution_count": 12,
   "metadata": {
    "collapsed": true
   },
   "outputs": [],
   "source": [
    "df_nces_raw = pd.read_csv(\n",
    "    os.path.join(input_dir, 'sc132a.txt'), \n",
    "    delimiter='\\t', \n",
    "    dtype = str\n",
    ")\n",
    "df_nces_raw.columns = df_nces_raw.columns.str.lower()"
   ]
  },
  {
   "cell_type": "code",
   "execution_count": 13,
   "metadata": {
    "collapsed": false
   },
   "outputs": [
    {
     "data": {
      "text/html": [
       "<div>\n",
       "<style>\n",
       "    .dataframe thead tr:only-child th {\n",
       "        text-align: right;\n",
       "    }\n",
       "\n",
       "    .dataframe thead th {\n",
       "        text-align: left;\n",
       "    }\n",
       "\n",
       "    .dataframe tbody tr th {\n",
       "        vertical-align: top;\n",
       "    }\n",
       "</style>\n",
       "<table border=\"1\" class=\"dataframe\">\n",
       "  <thead>\n",
       "    <tr style=\"text-align: right;\">\n",
       "      <th></th>\n",
       "      <th>survyear</th>\n",
       "      <th>ncessch</th>\n",
       "      <th>fipst</th>\n",
       "      <th>leaid</th>\n",
       "      <th>schno</th>\n",
       "      <th>stid</th>\n",
       "      <th>seasch</th>\n",
       "      <th>leanm</th>\n",
       "      <th>schnam</th>\n",
       "      <th>phone</th>\n",
       "      <th>...</th>\n",
       "      <th>hpalm</th>\n",
       "      <th>hpalf</th>\n",
       "      <th>tr</th>\n",
       "      <th>tralm</th>\n",
       "      <th>tralf</th>\n",
       "      <th>toteth</th>\n",
       "      <th>virtualstat</th>\n",
       "      <th>nslpstatus</th>\n",
       "      <th>chartauth1</th>\n",
       "      <th>chartauth2</th>\n",
       "    </tr>\n",
       "  </thead>\n",
       "  <tbody>\n",
       "    <tr>\n",
       "      <th>0</th>\n",
       "      <td>2013</td>\n",
       "      <td>010000200277</td>\n",
       "      <td>01</td>\n",
       "      <td>0100002</td>\n",
       "      <td>00277</td>\n",
       "      <td>210</td>\n",
       "      <td>0020</td>\n",
       "      <td>ALABAMA YOUTH SERVICES</td>\n",
       "      <td>SEQUOYAH SCH - CHALKVILLE CAMPUS</td>\n",
       "      <td>2056808574</td>\n",
       "      <td>...</td>\n",
       "      <td>-1</td>\n",
       "      <td>-1</td>\n",
       "      <td>-1</td>\n",
       "      <td>-1</td>\n",
       "      <td>-1</td>\n",
       "      <td>-1</td>\n",
       "      <td>VIRTUALNO</td>\n",
       "      <td>M</td>\n",
       "      <td>N</td>\n",
       "      <td>N</td>\n",
       "    </tr>\n",
       "    <tr>\n",
       "      <th>1</th>\n",
       "      <td>2013</td>\n",
       "      <td>010000201402</td>\n",
       "      <td>01</td>\n",
       "      <td>0100002</td>\n",
       "      <td>01402</td>\n",
       "      <td>210</td>\n",
       "      <td>0025</td>\n",
       "      <td>ALABAMA YOUTH SERVICES</td>\n",
       "      <td>EUFAULA SCH - EUFAULA CAMPUS</td>\n",
       "      <td>3346874441</td>\n",
       "      <td>...</td>\n",
       "      <td>-2</td>\n",
       "      <td>-2</td>\n",
       "      <td>-2</td>\n",
       "      <td>-2</td>\n",
       "      <td>-2</td>\n",
       "      <td>-2</td>\n",
       "      <td>VIRTUALNO</td>\n",
       "      <td>M</td>\n",
       "      <td>N</td>\n",
       "      <td>N</td>\n",
       "    </tr>\n",
       "    <tr>\n",
       "      <th>2</th>\n",
       "      <td>2013</td>\n",
       "      <td>010000201667</td>\n",
       "      <td>01</td>\n",
       "      <td>0100002</td>\n",
       "      <td>01667</td>\n",
       "      <td>210</td>\n",
       "      <td>0050</td>\n",
       "      <td>ALABAMA YOUTH SERVICES</td>\n",
       "      <td>CAMPS</td>\n",
       "      <td>3342153850</td>\n",
       "      <td>...</td>\n",
       "      <td>-1</td>\n",
       "      <td>-1</td>\n",
       "      <td>-1</td>\n",
       "      <td>-1</td>\n",
       "      <td>-1</td>\n",
       "      <td>-1</td>\n",
       "      <td>VIRTUALNO</td>\n",
       "      <td>M</td>\n",
       "      <td>N</td>\n",
       "      <td>N</td>\n",
       "    </tr>\n",
       "    <tr>\n",
       "      <th>3</th>\n",
       "      <td>2013</td>\n",
       "      <td>010000201670</td>\n",
       "      <td>01</td>\n",
       "      <td>0100002</td>\n",
       "      <td>01670</td>\n",
       "      <td>210</td>\n",
       "      <td>0060</td>\n",
       "      <td>ALABAMA YOUTH SERVICES</td>\n",
       "      <td>DET CTR</td>\n",
       "      <td>3342153850</td>\n",
       "      <td>...</td>\n",
       "      <td>-1</td>\n",
       "      <td>-1</td>\n",
       "      <td>-1</td>\n",
       "      <td>-1</td>\n",
       "      <td>-1</td>\n",
       "      <td>-1</td>\n",
       "      <td>VIRTUALNO</td>\n",
       "      <td>M</td>\n",
       "      <td>N</td>\n",
       "      <td>N</td>\n",
       "    </tr>\n",
       "    <tr>\n",
       "      <th>4</th>\n",
       "      <td>2013</td>\n",
       "      <td>010000201705</td>\n",
       "      <td>01</td>\n",
       "      <td>0100002</td>\n",
       "      <td>01705</td>\n",
       "      <td>210</td>\n",
       "      <td>0030</td>\n",
       "      <td>ALABAMA YOUTH SERVICES</td>\n",
       "      <td>WALLACE SCH - MT MEIGS CAMPUS</td>\n",
       "      <td>3342156039</td>\n",
       "      <td>...</td>\n",
       "      <td>-1</td>\n",
       "      <td>-1</td>\n",
       "      <td>-1</td>\n",
       "      <td>-1</td>\n",
       "      <td>-1</td>\n",
       "      <td>-1</td>\n",
       "      <td>VIRTUALNO</td>\n",
       "      <td>M</td>\n",
       "      <td>N</td>\n",
       "      <td>N</td>\n",
       "    </tr>\n",
       "  </tbody>\n",
       "</table>\n",
       "<p>5 rows × 312 columns</p>\n",
       "</div>"
      ],
      "text/plain": [
       "  survyear       ncessch fipst    leaid  schno stid seasch  \\\n",
       "0     2013  010000200277    01  0100002  00277  210   0020   \n",
       "1     2013  010000201402    01  0100002  01402  210   0025   \n",
       "2     2013  010000201667    01  0100002  01667  210   0050   \n",
       "3     2013  010000201670    01  0100002  01670  210   0060   \n",
       "4     2013  010000201705    01  0100002  01705  210   0030   \n",
       "\n",
       "                    leanm                            schnam       phone  \\\n",
       "0  ALABAMA YOUTH SERVICES  SEQUOYAH SCH - CHALKVILLE CAMPUS  2056808574   \n",
       "1  ALABAMA YOUTH SERVICES      EUFAULA SCH - EUFAULA CAMPUS  3346874441   \n",
       "2  ALABAMA YOUTH SERVICES                             CAMPS  3342153850   \n",
       "3  ALABAMA YOUTH SERVICES                           DET CTR  3342153850   \n",
       "4  ALABAMA YOUTH SERVICES     WALLACE SCH - MT MEIGS CAMPUS  3342156039   \n",
       "\n",
       "     ...     hpalm hpalf  tr tralm tralf toteth virtualstat nslpstatus  \\\n",
       "0    ...        -1    -1  -1    -1    -1     -1   VIRTUALNO          M   \n",
       "1    ...        -2    -2  -2    -2    -2     -2   VIRTUALNO          M   \n",
       "2    ...        -1    -1  -1    -1    -1     -1   VIRTUALNO          M   \n",
       "3    ...        -1    -1  -1    -1    -1     -1   VIRTUALNO          M   \n",
       "4    ...        -1    -1  -1    -1    -1     -1   VIRTUALNO          M   \n",
       "\n",
       "  chartauth1 chartauth2  \n",
       "0          N          N  \n",
       "1          N          N  \n",
       "2          N          N  \n",
       "3          N          N  \n",
       "4          N          N  \n",
       "\n",
       "[5 rows x 312 columns]"
      ]
     },
     "execution_count": 13,
     "metadata": {},
     "output_type": "execute_result"
    }
   ],
   "source": [
    "df_nces_raw.head()"
   ]
  },
  {
   "cell_type": "markdown",
   "metadata": {},
   "source": [
    "The federal NCES data has a column labeled **`seasch`, which is each state's own ID for each school.** For schools in New York City, this is the same value as the 12-digit BEDS code used by the New York State Department of Education. \n",
    "\n",
    "Let's merge the federal dataset with the schools from the NYC School Survey universe using the `seasch` and the `beds number`."
   ]
  },
  {
   "cell_type": "code",
   "execution_count": 14,
   "metadata": {
    "collapsed": true
   },
   "outputs": [],
   "source": [
    "df_nces_raw = df_nces_raw[['ncessch', 'seasch', 'schnam', 'lcity', 'lstree']]\n",
    "df_merge = pd.merge(df_nyc_beds, \n",
    "                    df_nces_raw, \n",
    "                    left_on = 'beds number', \n",
    "                    right_on = 'seasch', \n",
    "                    how = 'left', \n",
    "                    indicator = True)"
   ]
  },
  {
   "cell_type": "markdown",
   "metadata": {},
   "source": [
    "Only one school, Icahn Charter School 3, seems to be off (looks like it's mixed up with Bronx Academy of Promise Charter School) - we can fix this manually."
   ]
  },
  {
   "cell_type": "code",
   "execution_count": 15,
   "metadata": {
    "collapsed": false
   },
   "outputs": [
    {
     "data": {
      "text/plain": [
       "both          1753\n",
       "left_only        1\n",
       "right_only       0\n",
       "Name: _merge, dtype: int64"
      ]
     },
     "execution_count": 15,
     "metadata": {},
     "output_type": "execute_result"
    }
   ],
   "source": [
    "df_merge._merge.value_counts()"
   ]
  },
  {
   "cell_type": "code",
   "execution_count": 16,
   "metadata": {
    "collapsed": false
   },
   "outputs": [
    {
     "data": {
      "text/html": [
       "<div>\n",
       "<style>\n",
       "    .dataframe thead tr:only-child th {\n",
       "        text-align: right;\n",
       "    }\n",
       "\n",
       "    .dataframe thead th {\n",
       "        text-align: left;\n",
       "    }\n",
       "\n",
       "    .dataframe tbody tr th {\n",
       "        vertical-align: top;\n",
       "    }\n",
       "</style>\n",
       "<table border=\"1\" class=\"dataframe\">\n",
       "  <thead>\n",
       "    <tr style=\"text-align: right;\">\n",
       "      <th></th>\n",
       "      <th>DBN</th>\n",
       "      <th>School Name</th>\n",
       "      <th>beds number</th>\n",
       "      <th>location_name</th>\n",
       "      <th>primary_address_line_1</th>\n",
       "      <th>ncessch</th>\n",
       "      <th>seasch</th>\n",
       "      <th>schnam</th>\n",
       "      <th>lcity</th>\n",
       "      <th>lstree</th>\n",
       "      <th>_merge</th>\n",
       "    </tr>\n",
       "  </thead>\n",
       "  <tbody>\n",
       "    <tr>\n",
       "      <th>1734</th>\n",
       "      <td>84X422</td>\n",
       "      <td>Icahn Charter School 3</td>\n",
       "      <td>320900860917</td>\n",
       "      <td>Icahn Charter School 3</td>\n",
       "      <td>1500 PELHAM PARKWAY SOUTH</td>\n",
       "      <td>NaN</td>\n",
       "      <td>NaN</td>\n",
       "      <td>NaN</td>\n",
       "      <td>NaN</td>\n",
       "      <td>NaN</td>\n",
       "      <td>left_only</td>\n",
       "    </tr>\n",
       "  </tbody>\n",
       "</table>\n",
       "</div>"
      ],
      "text/plain": [
       "         DBN             School Name   beds number           location_name  \\\n",
       "1734  84X422  Icahn Charter School 3  320900860917  Icahn Charter School 3   \n",
       "\n",
       "         primary_address_line_1 ncessch seasch schnam lcity lstree     _merge  \n",
       "1734  1500 PELHAM PARKWAY SOUTH     NaN    NaN    NaN   NaN    NaN  left_only  "
      ]
     },
     "execution_count": 16,
     "metadata": {},
     "output_type": "execute_result"
    }
   ],
   "source": [
    "df_merge[df_merge['_merge'] == 'left_only']"
   ]
  },
  {
   "cell_type": "code",
   "execution_count": 17,
   "metadata": {
    "collapsed": true
   },
   "outputs": [],
   "source": [
    "df_merge['ncessch'] = np.where(df_merge['School Name'] == 'Icahn Charter School 3', \n",
    "                               df_nces_raw[df_nces_raw['schnam'] == 'ICAHN CHARTER SCHOOL 3']['ncessch'],\n",
    "                              df_merge['ncessch'])\n",
    "\n",
    "df_merge['ncessch'] = np.where(df_merge['School Name'] == 'Bronx Academy of Promise Charter School', \n",
    "                               df_nces_raw[df_nces_raw['schnam'] == 'BRONX ACADEMY OF PROMISE CHARTER SCHOOL']['ncessch'],\n",
    "                              df_merge['ncessch'])"
   ]
  },
  {
   "cell_type": "code",
   "execution_count": 18,
   "metadata": {
    "collapsed": true
   },
   "outputs": [],
   "source": [
    "df_merge.drop(['_merge', 'schnam', 'seasch', 'lstree', 'lcity', 'primary_address_line_1'], axis = 1, inplace = True)\n",
    "df_merge.rename(columns = {'DBN': 'dbn', 'School Name': 'school_name', 'beds number': 'beds'}, inplace = True)"
   ]
  },
  {
   "cell_type": "markdown",
   "metadata": {},
   "source": [
    "Now we have a crosswalk that matches up 3 different types of school IDs: 6-digit local NYC district borough numbers (`dbn`), 12-digit NY State's Basic Education Data System numbers (`beds`), and 12-digit federal NCES school IDs (`ncesssch`):"
   ]
  },
  {
   "cell_type": "code",
   "execution_count": 19,
   "metadata": {
    "collapsed": false
   },
   "outputs": [
    {
     "data": {
      "text/html": [
       "<div>\n",
       "<style>\n",
       "    .dataframe thead tr:only-child th {\n",
       "        text-align: right;\n",
       "    }\n",
       "\n",
       "    .dataframe thead th {\n",
       "        text-align: left;\n",
       "    }\n",
       "\n",
       "    .dataframe tbody tr th {\n",
       "        vertical-align: top;\n",
       "    }\n",
       "</style>\n",
       "<table border=\"1\" class=\"dataframe\">\n",
       "  <thead>\n",
       "    <tr style=\"text-align: right;\">\n",
       "      <th></th>\n",
       "      <th>dbn</th>\n",
       "      <th>school_name</th>\n",
       "      <th>beds</th>\n",
       "      <th>location_name</th>\n",
       "      <th>ncessch</th>\n",
       "    </tr>\n",
       "  </thead>\n",
       "  <tbody>\n",
       "    <tr>\n",
       "      <th>0</th>\n",
       "      <td>01M015</td>\n",
       "      <td>P.S. 015 Roberto Clemente</td>\n",
       "      <td>310100010015</td>\n",
       "      <td>P.S. 015 Roberto Clemente</td>\n",
       "      <td>360007602087</td>\n",
       "    </tr>\n",
       "    <tr>\n",
       "      <th>1</th>\n",
       "      <td>01M019</td>\n",
       "      <td>P.S. 019 Asher Levy</td>\n",
       "      <td>310100010019</td>\n",
       "      <td>P.S. 019 Asher Levy</td>\n",
       "      <td>360007602101</td>\n",
       "    </tr>\n",
       "    <tr>\n",
       "      <th>2</th>\n",
       "      <td>01M020</td>\n",
       "      <td>P.S. 020 Anna Silver</td>\n",
       "      <td>310100010020</td>\n",
       "      <td>P.S. 020 Anna Silver</td>\n",
       "      <td>360007602104</td>\n",
       "    </tr>\n",
       "    <tr>\n",
       "      <th>3</th>\n",
       "      <td>01M034</td>\n",
       "      <td>P.S. 034 Franklin D. Roosevelt</td>\n",
       "      <td>310100010034</td>\n",
       "      <td>P.S. 034 Franklin D. Roosevelt</td>\n",
       "      <td>360007602157</td>\n",
       "    </tr>\n",
       "    <tr>\n",
       "      <th>4</th>\n",
       "      <td>01M063</td>\n",
       "      <td>The STAR Academy - P.S.63</td>\n",
       "      <td>310100010063</td>\n",
       "      <td>The STAR Academy - P.S.63</td>\n",
       "      <td>360007602270</td>\n",
       "    </tr>\n",
       "  </tbody>\n",
       "</table>\n",
       "</div>"
      ],
      "text/plain": [
       "      dbn                     school_name          beds  \\\n",
       "0  01M015       P.S. 015 Roberto Clemente  310100010015   \n",
       "1  01M019             P.S. 019 Asher Levy  310100010019   \n",
       "2  01M020            P.S. 020 Anna Silver  310100010020   \n",
       "3  01M034  P.S. 034 Franklin D. Roosevelt  310100010034   \n",
       "4  01M063       The STAR Academy - P.S.63  310100010063   \n",
       "\n",
       "                    location_name       ncessch  \n",
       "0       P.S. 015 Roberto Clemente  360007602087  \n",
       "1             P.S. 019 Asher Levy  360007602101  \n",
       "2            P.S. 020 Anna Silver  360007602104  \n",
       "3  P.S. 034 Franklin D. Roosevelt  360007602157  \n",
       "4       The STAR Academy - P.S.63  360007602270  "
      ]
     },
     "execution_count": 19,
     "metadata": {},
     "output_type": "execute_result"
    }
   ],
   "source": [
    "df_merge.head()"
   ]
  },
  {
   "cell_type": "markdown",
   "metadata": {},
   "source": [
    "## Federal (`NCESSCH`) to Federal (`COMBOKEY`)"
   ]
  },
  {
   "cell_type": "markdown",
   "metadata": {},
   "source": [
    "The NCES is a separate branch of ED from the Office for Civil Rights (OCR), which produces the Civil Rights Data Collection survey that we are using. OCR identifies schools using **a 12-digit ID, aka the `combokey`.** In most cases, this is identical to the federal NCES school ID, the `NCESSCH`. However, in some cases--notably in NYC schools--it is not. For more detail on the differences between these two IDs for NYC schools, see Appendix D of [\"Documentation to the NCES Common Core of Data Local Education Agency Universe Survey: School Year 2013–14\"](https://nces.ed.gov/ccd/pdf/2015147_2013-14_LEA_documentation_v1a.pdf) (published July 2015).\n",
    "\n",
    "Let's take a look at one of the intermediate files we created in the `federal_civil_rights_survey.ipynb` notebook to see this in action:"
   ]
  },
  {
   "cell_type": "code",
   "execution_count": 20,
   "metadata": {
    "collapsed": false
   },
   "outputs": [
    {
     "data": {
      "text/html": [
       "<div>\n",
       "<style>\n",
       "    .dataframe thead tr:only-child th {\n",
       "        text-align: right;\n",
       "    }\n",
       "\n",
       "    .dataframe thead th {\n",
       "        text-align: left;\n",
       "    }\n",
       "\n",
       "    .dataframe tbody tr th {\n",
       "        vertical-align: top;\n",
       "    }\n",
       "</style>\n",
       "<table border=\"1\" class=\"dataframe\">\n",
       "  <thead>\n",
       "    <tr style=\"text-align: right;\">\n",
       "      <th></th>\n",
       "      <th>sch_name</th>\n",
       "      <th>combokey</th>\n",
       "      <th>nces_school_id</th>\n",
       "    </tr>\n",
       "  </thead>\n",
       "  <tbody>\n",
       "    <tr>\n",
       "      <th>58276</th>\n",
       "      <td>PS 51 BRONX NEW SCHOOL</td>\n",
       "      <td>362058000127</td>\n",
       "      <td>360008700127</td>\n",
       "    </tr>\n",
       "    <tr>\n",
       "      <th>58277</th>\n",
       "      <td>PS 23 THE NEW CHILDREN'S SCHOOL</td>\n",
       "      <td>362058000130</td>\n",
       "      <td>360008700130</td>\n",
       "    </tr>\n",
       "    <tr>\n",
       "      <th>58278</th>\n",
       "      <td>IS 218 SALOME URENA</td>\n",
       "      <td>362058000152</td>\n",
       "      <td>360008300152</td>\n",
       "    </tr>\n",
       "    <tr>\n",
       "      <th>58279</th>\n",
       "      <td>PS 178 DR SELMAN WAKSMAN</td>\n",
       "      <td>362058000158</td>\n",
       "      <td>360008800158</td>\n",
       "    </tr>\n",
       "    <tr>\n",
       "      <th>58280</th>\n",
       "      <td>PS 279 CAPT MANUEL RIVERA JR</td>\n",
       "      <td>362058000183</td>\n",
       "      <td>360008700183</td>\n",
       "    </tr>\n",
       "  </tbody>\n",
       "</table>\n",
       "</div>"
      ],
      "text/plain": [
       "                              sch_name      combokey nces_school_id\n",
       "58276           PS 51 BRONX NEW SCHOOL  362058000127   360008700127\n",
       "58277  PS 23 THE NEW CHILDREN'S SCHOOL  362058000130   360008700130\n",
       "58278              IS 218 SALOME URENA  362058000152   360008300152\n",
       "58279         PS 178 DR SELMAN WAKSMAN  362058000158   360008800158\n",
       "58280     PS 279 CAPT MANUEL RIVERA JR  362058000183   360008700183"
      ]
     },
     "execution_count": 20,
     "metadata": {},
     "output_type": "execute_result"
    }
   ],
   "source": [
    "df_ocr = pd.read_feather(\n",
    "    os.path.join(intermediate_dir, 'ocr_schools_ids.feather')\n",
    ")\n",
    "\n",
    "df_ocr.iloc[58276:58281]"
   ]
  },
  {
   "cell_type": "markdown",
   "metadata": {},
   "source": [
    "Not all of these are NYC schools (though we have shown five NYC schools above), since OCR conducts a nationwide survey. Also, not all schools that have `combokey` values have `nces_school_id` values. This is because of differences in the way that OCR and NCES define the universe of schools. For more information on the different survey populations for federal school statistics, see the OCR's [\"Public-Use Data File User's Manual\"](https://ocrdata.ed.gov/Downloads/CRDC%202013-14%20Public%20Use%20Data%20File%20Users%20Manual.pdf)  (published March 2016).\n",
    "\n",
    "Let's merge the federal dataset with the schools from the NYC School Survey universe using the `nces_school_id` and the `ncessch`."
   ]
  },
  {
   "cell_type": "code",
   "execution_count": 21,
   "metadata": {
    "collapsed": true
   },
   "outputs": [],
   "source": [
    "df_merge_ocr = pd.merge(df_merge, \n",
    "                        df_ocr, \n",
    "                        left_on = 'ncessch', \n",
    "                        right_on = 'nces_school_id', \n",
    "                        how = 'left', \n",
    "                        indicator = True)"
   ]
  },
  {
   "cell_type": "markdown",
   "metadata": {},
   "source": [
    "There are only 10 schools in the NYC School Survey data that don't match with the federal OCR data. Doing a quick search of these school names on the [OCR school search tool](https://ocrdata.ed.gov/DistrictSchoolSearch#schoolSearch) shows that none of these unmatched schools are in the Office for Civil Rights database. They do not have federal statistics on bullying and harassment and so will be excluded from our analysis."
   ]
  },
  {
   "cell_type": "code",
   "execution_count": 22,
   "metadata": {
    "collapsed": false
   },
   "outputs": [
    {
     "data": {
      "text/plain": [
       "both          1752\n",
       "left_only       10\n",
       "right_only       0\n",
       "Name: _merge, dtype: int64"
      ]
     },
     "execution_count": 22,
     "metadata": {},
     "output_type": "execute_result"
    }
   ],
   "source": [
    "df_merge_ocr._merge.value_counts()"
   ]
  },
  {
   "cell_type": "code",
   "execution_count": 23,
   "metadata": {
    "collapsed": false
   },
   "outputs": [
    {
     "data": {
      "text/plain": [
       "array(['Research and Service High School',\n",
       "       'Teaching Firms of America-Professional Preparatory Charter School',\n",
       "       'The Ethical Community Charter School (TECCS)',\n",
       "       'New American Academy Charter School',\n",
       "       'Innovate Manhattan Charter School',\n",
       "       'Growing Up Green Charter School',\n",
       "       'Merrick Academy - Queens Public Charter School',\n",
       "       'International Leadership Charter High School',\n",
       "       'South Bronx Classical Charter School II',\n",
       "       'Bronx Global Learning Institute for Girls Charter School'], dtype=object)"
      ]
     },
     "execution_count": 23,
     "metadata": {},
     "output_type": "execute_result"
    }
   ],
   "source": [
    "df_merge_ocr[df_merge_ocr['_merge'] == 'left_only']['school_name'].values"
   ]
  },
  {
   "cell_type": "code",
   "execution_count": 24,
   "metadata": {
    "collapsed": true
   },
   "outputs": [],
   "source": [
    "df_merge_ocr = df_merge_ocr.loc[df_merge_ocr['_merge'] == 'both']"
   ]
  },
  {
   "cell_type": "markdown",
   "metadata": {},
   "source": [
    "Multiple schools in the OCR data can have the same `ncessch` IDs (and different `combokey` ids). These appear to be affiliated charter schools that might sometimes consolidate their reporting (e.g., Achievement First Crown Heights Charter School vs. Achievement First Crown Heights Middle School). "
   ]
  },
  {
   "cell_type": "code",
   "execution_count": 25,
   "metadata": {
    "collapsed": false
   },
   "outputs": [
    {
     "data": {
      "text/html": [
       "<div>\n",
       "<style>\n",
       "    .dataframe thead tr:only-child th {\n",
       "        text-align: right;\n",
       "    }\n",
       "\n",
       "    .dataframe thead th {\n",
       "        text-align: left;\n",
       "    }\n",
       "\n",
       "    .dataframe tbody tr th {\n",
       "        vertical-align: top;\n",
       "    }\n",
       "</style>\n",
       "<table border=\"1\" class=\"dataframe\">\n",
       "  <thead>\n",
       "    <tr style=\"text-align: right;\">\n",
       "      <th></th>\n",
       "      <th>dbn</th>\n",
       "      <th>school_name</th>\n",
       "      <th>beds</th>\n",
       "      <th>location_name</th>\n",
       "      <th>ncessch</th>\n",
       "      <th>sch_name</th>\n",
       "      <th>combokey</th>\n",
       "      <th>nces_school_id</th>\n",
       "      <th>_merge</th>\n",
       "    </tr>\n",
       "  </thead>\n",
       "  <tbody>\n",
       "    <tr>\n",
       "      <th>1577</th>\n",
       "      <td>84K356</td>\n",
       "      <td>Achievement First Crown Heights Charter School</td>\n",
       "      <td>331700860879</td>\n",
       "      <td>Achievement First Crown Heights Charter School</td>\n",
       "      <td>360014705821</td>\n",
       "      <td>ACHIEVEMENT FIRST CROWN HEIGHTS CHARTER SCHOOL</td>\n",
       "      <td>360014705821</td>\n",
       "      <td>360014705821</td>\n",
       "      <td>both</td>\n",
       "    </tr>\n",
       "    <tr>\n",
       "      <th>1578</th>\n",
       "      <td>84K356</td>\n",
       "      <td>Achievement First Crown Heights Charter School</td>\n",
       "      <td>331700860879</td>\n",
       "      <td>Achievement First Crown Heights Charter School</td>\n",
       "      <td>360014705821</td>\n",
       "      <td>ACHIEVEMENT FIRST CROWN HEIGHTS MIDDLE SCHOOL</td>\n",
       "      <td>360014799999</td>\n",
       "      <td>360014705821</td>\n",
       "      <td>both</td>\n",
       "    </tr>\n",
       "    <tr>\n",
       "      <th>1580</th>\n",
       "      <td>84K358</td>\n",
       "      <td>Achievement First East New York Charter School</td>\n",
       "      <td>331900860880</td>\n",
       "      <td>Achievement First East New York Charter School</td>\n",
       "      <td>360014905824</td>\n",
       "      <td>ACHIEVEMENT FIRST EAST NEW YORK CHARTER SCHOOL</td>\n",
       "      <td>360014905824</td>\n",
       "      <td>360014905824</td>\n",
       "      <td>both</td>\n",
       "    </tr>\n",
       "    <tr>\n",
       "      <th>1581</th>\n",
       "      <td>84K358</td>\n",
       "      <td>Achievement First East New York Charter School</td>\n",
       "      <td>331900860880</td>\n",
       "      <td>Achievement First East New York Charter School</td>\n",
       "      <td>360014905824</td>\n",
       "      <td>ACHIEVEMENT FIRST EAST NEW YORK MIDDLE SCHOOL</td>\n",
       "      <td>360014999999</td>\n",
       "      <td>360014905824</td>\n",
       "      <td>both</td>\n",
       "    </tr>\n",
       "    <tr>\n",
       "      <th>1593</th>\n",
       "      <td>84K508</td>\n",
       "      <td>Achievement First Endeavor Charter School</td>\n",
       "      <td>331300860902</td>\n",
       "      <td>Achievement First Endeavor Charter School</td>\n",
       "      <td>360017005867</td>\n",
       "      <td>ACHIEVEMENT FIRST ENDEAVOR CHARTER SCHOOL</td>\n",
       "      <td>360017005867</td>\n",
       "      <td>360017005867</td>\n",
       "      <td>both</td>\n",
       "    </tr>\n",
       "  </tbody>\n",
       "</table>\n",
       "</div>"
      ],
      "text/plain": [
       "         dbn                                     school_name          beds  \\\n",
       "1577  84K356  Achievement First Crown Heights Charter School  331700860879   \n",
       "1578  84K356  Achievement First Crown Heights Charter School  331700860879   \n",
       "1580  84K358  Achievement First East New York Charter School  331900860880   \n",
       "1581  84K358  Achievement First East New York Charter School  331900860880   \n",
       "1593  84K508       Achievement First Endeavor Charter School  331300860902   \n",
       "\n",
       "                                       location_name       ncessch  \\\n",
       "1577  Achievement First Crown Heights Charter School  360014705821   \n",
       "1578  Achievement First Crown Heights Charter School  360014705821   \n",
       "1580  Achievement First East New York Charter School  360014905824   \n",
       "1581  Achievement First East New York Charter School  360014905824   \n",
       "1593       Achievement First Endeavor Charter School  360017005867   \n",
       "\n",
       "                                            sch_name      combokey  \\\n",
       "1577  ACHIEVEMENT FIRST CROWN HEIGHTS CHARTER SCHOOL  360014705821   \n",
       "1578   ACHIEVEMENT FIRST CROWN HEIGHTS MIDDLE SCHOOL  360014799999   \n",
       "1580  ACHIEVEMENT FIRST EAST NEW YORK CHARTER SCHOOL  360014905824   \n",
       "1581   ACHIEVEMENT FIRST EAST NEW YORK MIDDLE SCHOOL  360014999999   \n",
       "1593       ACHIEVEMENT FIRST ENDEAVOR CHARTER SCHOOL  360017005867   \n",
       "\n",
       "     nces_school_id _merge  \n",
       "1577   360014705821   both  \n",
       "1578   360014705821   both  \n",
       "1580   360014905824   both  \n",
       "1581   360014905824   both  \n",
       "1593   360017005867   both  "
      ]
     },
     "execution_count": 25,
     "metadata": {},
     "output_type": "execute_result"
    }
   ],
   "source": [
    "df_merge_ocr.loc[df_merge_ocr.duplicated(['ncessch'], keep = False)].head()"
   ]
  },
  {
   "cell_type": "markdown",
   "metadata": {},
   "source": [
    "Let's drop these schools, since we can't be not sure how to deal with their responses when comparing to the NYC School Survey responses."
   ]
  },
  {
   "cell_type": "code",
   "execution_count": 26,
   "metadata": {
    "collapsed": true
   },
   "outputs": [],
   "source": [
    "df_merge_ocr = df_merge_ocr.loc[~df_merge_ocr.duplicated(['ncessch'])]\n",
    "df_merge_ocr.drop(['sch_name', 'nces_school_id', '_merge'], axis = 1, inplace = True)"
   ]
  },
  {
   "cell_type": "markdown",
   "metadata": {},
   "source": [
    "## The crosswalk"
   ]
  },
  {
   "cell_type": "markdown",
   "metadata": {},
   "source": [
    "Now we have a crosswalk that matches up 4 different types of school IDs: 6-digit local NYC district borough numbers (`dbn`), 12-digit NY State's Basic Education Data System numbers (`beds`), 12-digit federal NCES school IDs (`ncessch`), and 12-digit federal OCR school IDs (`combokey`)."
   ]
  },
  {
   "cell_type": "code",
   "execution_count": 27,
   "metadata": {
    "collapsed": false
   },
   "outputs": [
    {
     "data": {
      "text/html": [
       "<div>\n",
       "<style>\n",
       "    .dataframe thead tr:only-child th {\n",
       "        text-align: right;\n",
       "    }\n",
       "\n",
       "    .dataframe thead th {\n",
       "        text-align: left;\n",
       "    }\n",
       "\n",
       "    .dataframe tbody tr th {\n",
       "        vertical-align: top;\n",
       "    }\n",
       "</style>\n",
       "<table border=\"1\" class=\"dataframe\">\n",
       "  <thead>\n",
       "    <tr style=\"text-align: right;\">\n",
       "      <th></th>\n",
       "      <th>dbn</th>\n",
       "      <th>school_name</th>\n",
       "      <th>beds</th>\n",
       "      <th>location_name</th>\n",
       "      <th>ncessch</th>\n",
       "      <th>combokey</th>\n",
       "    </tr>\n",
       "  </thead>\n",
       "  <tbody>\n",
       "    <tr>\n",
       "      <th>0</th>\n",
       "      <td>01M015</td>\n",
       "      <td>P.S. 015 Roberto Clemente</td>\n",
       "      <td>310100010015</td>\n",
       "      <td>P.S. 015 Roberto Clemente</td>\n",
       "      <td>360007602087</td>\n",
       "      <td>362058002087</td>\n",
       "    </tr>\n",
       "    <tr>\n",
       "      <th>1</th>\n",
       "      <td>01M019</td>\n",
       "      <td>P.S. 019 Asher Levy</td>\n",
       "      <td>310100010019</td>\n",
       "      <td>P.S. 019 Asher Levy</td>\n",
       "      <td>360007602101</td>\n",
       "      <td>362058002101</td>\n",
       "    </tr>\n",
       "    <tr>\n",
       "      <th>2</th>\n",
       "      <td>01M020</td>\n",
       "      <td>P.S. 020 Anna Silver</td>\n",
       "      <td>310100010020</td>\n",
       "      <td>P.S. 020 Anna Silver</td>\n",
       "      <td>360007602104</td>\n",
       "      <td>362058002104</td>\n",
       "    </tr>\n",
       "    <tr>\n",
       "      <th>3</th>\n",
       "      <td>01M034</td>\n",
       "      <td>P.S. 034 Franklin D. Roosevelt</td>\n",
       "      <td>310100010034</td>\n",
       "      <td>P.S. 034 Franklin D. Roosevelt</td>\n",
       "      <td>360007602157</td>\n",
       "      <td>362058002157</td>\n",
       "    </tr>\n",
       "    <tr>\n",
       "      <th>4</th>\n",
       "      <td>01M063</td>\n",
       "      <td>The STAR Academy - P.S.63</td>\n",
       "      <td>310100010063</td>\n",
       "      <td>The STAR Academy - P.S.63</td>\n",
       "      <td>360007602270</td>\n",
       "      <td>362058002270</td>\n",
       "    </tr>\n",
       "  </tbody>\n",
       "</table>\n",
       "</div>"
      ],
      "text/plain": [
       "      dbn                     school_name          beds  \\\n",
       "0  01M015       P.S. 015 Roberto Clemente  310100010015   \n",
       "1  01M019             P.S. 019 Asher Levy  310100010019   \n",
       "2  01M020            P.S. 020 Anna Silver  310100010020   \n",
       "3  01M034  P.S. 034 Franklin D. Roosevelt  310100010034   \n",
       "4  01M063       The STAR Academy - P.S.63  310100010063   \n",
       "\n",
       "                    location_name       ncessch      combokey  \n",
       "0       P.S. 015 Roberto Clemente  360007602087  362058002087  \n",
       "1             P.S. 019 Asher Levy  360007602101  362058002101  \n",
       "2            P.S. 020 Anna Silver  360007602104  362058002104  \n",
       "3  P.S. 034 Franklin D. Roosevelt  360007602157  362058002157  \n",
       "4       The STAR Academy - P.S.63  360007602270  362058002270  "
      ]
     },
     "execution_count": 27,
     "metadata": {},
     "output_type": "execute_result"
    }
   ],
   "source": [
    "df_merge_ocr.head()"
   ]
  },
  {
   "cell_type": "markdown",
   "metadata": {},
   "source": [
    "Ultimately, all but 40 schools from the NYC School Survey are included in our crosswalk."
   ]
  },
  {
   "cell_type": "code",
   "execution_count": 28,
   "metadata": {
    "collapsed": false
   },
   "outputs": [
    {
     "data": {
      "text/plain": [
       "40"
      ]
     },
     "execution_count": 28,
     "metadata": {},
     "output_type": "execute_result"
    }
   ],
   "source": [
    "len(df_nyc) - len(df_merge_ocr)"
   ]
  },
  {
   "cell_type": "code",
   "execution_count": 29,
   "metadata": {
    "collapsed": false
   },
   "outputs": [
    {
     "data": {
      "text/plain": [
       "array(['Washington Irving Yabc', 'George Washington Yabc',\n",
       "       'Alfred E. Smith Campus YABC', 'Herbert H. Lehman Yabc',\n",
       "       'Stevenson Yabc', 'Walton Yabc', 'Kennedy Yabc', 'Grace Dodge Yabc',\n",
       "       'C Columbus Hs Yabc', 'Learning To Work Yabc At Monroe Academy',\n",
       "       'Downtown Brooklyn Yabc', 'Automotive High School Yabc',\n",
       "       \"P.S. 372 -The Children's School\",\n",
       "       'Research and Service High School', 'BOYS AND GIRLS YABC',\n",
       "       'Erasmus Yabc', 'South Shore Educational Complex Yabc',\n",
       "       'Thomas Jefferson Yabc', 'Franklin K. Lane Campus YABC',\n",
       "       'Franklin Delano Roosevelt YABC', 'Abraham Lincoln Yabc',\n",
       "       'HS Arts & Business Yabc', 'Flushing Yabc', 'John Adams Yabc',\n",
       "       'Staten Island Yabc',\n",
       "       'Teaching Firms of America-Professional Preparatory Charter School',\n",
       "       'The Ethical Community Charter School (TECCS)',\n",
       "       'New American Academy Charter School',\n",
       "       'Achievement First High School', 'Uncommmon Charter HS 2',\n",
       "       'Achievement First University Prep', 'Uncommon Charter HS',\n",
       "       'Innovate Manhattan Charter School', 'Harlem Village Academy HS',\n",
       "       'KIPP NYC College Prep', 'Growing Up Green Charter School',\n",
       "       'Merrick Academy - Queens Public Charter School',\n",
       "       'International Leadership Charter High School',\n",
       "       'South Bronx Classical Charter School II',\n",
       "       'Bronx Global Learning Institute for Girls Charter School'], dtype=object)"
      ]
     },
     "execution_count": 29,
     "metadata": {},
     "output_type": "execute_result"
    }
   ],
   "source": [
    "df_nyc.loc[~df_nyc['School Name'].isin(df_merge_ocr['school_name'])]['School Name'].values"
   ]
  },
  {
   "cell_type": "markdown",
   "metadata": {},
   "source": [
    "Since this crosswalk (the `df_merge_ocr` dataframe) might be useful for future research, let's save it to a csv file in the `data/output` folder."
   ]
  },
  {
   "cell_type": "code",
   "execution_count": 30,
   "metadata": {
    "collapsed": true
   },
   "outputs": [],
   "source": [
    "df_merge_ocr.to_csv(os.path.join(output_dir, 'crosswalk.csv'), index = False)"
   ]
  },
  {
   "cell_type": "markdown",
   "metadata": {},
   "source": [
    "## Merge NYC School Survey with the Federal Civil Rights survey using the crosswalk"
   ]
  },
  {
   "cell_type": "markdown",
   "metadata": {},
   "source": [
    "Read in the processed federal OCR and NYC School Survey files"
   ]
  },
  {
   "cell_type": "code",
   "execution_count": 31,
   "metadata": {
    "collapsed": true
   },
   "outputs": [],
   "source": [
    "ocr = pd.read_feather(\n",
    "    os.path.join(intermediate_dir, 'federal_ocr_survey.feather')\n",
    ")\n",
    "nyc_survey = pd.read_feather(\n",
    "    os.path.join(intermediate_dir, 'nyc_survey_wide.feather')\n",
    ")"
   ]
  },
  {
   "cell_type": "markdown",
   "metadata": {},
   "source": [
    "Use the crosswalk, `df_merge_ocr`, to get the `dbn` for each of the NYC schools"
   ]
  },
  {
   "cell_type": "code",
   "execution_count": 32,
   "metadata": {
    "collapsed": true
   },
   "outputs": [],
   "source": [
    "ocr = pd.merge(ocr, \n",
    "               df_merge_ocr[['dbn', 'combokey']], \n",
    "               how = 'right', \n",
    "               on = 'combokey')"
   ]
  },
  {
   "cell_type": "markdown",
   "metadata": {},
   "source": [
    "Match up the federal OCR survey with the NYC School Survey using this `dbn`"
   ]
  },
  {
   "cell_type": "code",
   "execution_count": 33,
   "metadata": {
    "collapsed": true
   },
   "outputs": [],
   "source": [
    "data = pd.merge(nyc_survey, \n",
    "                ocr, \n",
    "                on = 'dbn', \n",
    "                how = 'outer', \n",
    "                indicator = True)"
   ]
  },
  {
   "cell_type": "markdown",
   "metadata": {},
   "source": [
    "As stated in the previous section, 40 school do not match"
   ]
  },
  {
   "cell_type": "code",
   "execution_count": 34,
   "metadata": {
    "collapsed": false
   },
   "outputs": [
    {
     "data": {
      "text/plain": [
       "40"
      ]
     },
     "execution_count": 34,
     "metadata": {},
     "output_type": "execute_result"
    }
   ],
   "source": [
    "data[data['_merge'] == 'left_only']['school_name'].nunique()"
   ]
  },
  {
   "cell_type": "code",
   "execution_count": 35,
   "metadata": {
    "collapsed": true
   },
   "outputs": [],
   "source": [
    "data = data.loc[data['_merge'] == 'both']\n",
    "data.drop(['_merge'], axis = 1, inplace = True)\n",
    "data.reset_index(inplace = True, drop = True)"
   ]
  },
  {
   "cell_type": "code",
   "execution_count": 36,
   "metadata": {
    "collapsed": false
   },
   "outputs": [
    {
     "data": {
      "text/html": [
       "<div>\n",
       "<style>\n",
       "    .dataframe thead tr:only-child th {\n",
       "        text-align: right;\n",
       "    }\n",
       "\n",
       "    .dataframe thead th {\n",
       "        text-align: left;\n",
       "    }\n",
       "\n",
       "    .dataframe tbody tr th {\n",
       "        vertical-align: top;\n",
       "    }\n",
       "</style>\n",
       "<table border=\"1\" class=\"dataframe\">\n",
       "  <thead>\n",
       "    <tr style=\"text-align: right;\">\n",
       "      <th></th>\n",
       "      <th>dbn</th>\n",
       "      <th>school_name</th>\n",
       "      <th>answer_code</th>\n",
       "      <th>dk_parents_perc_harass_parents</th>\n",
       "      <th>dk_parents_perc_harass_differences_parents</th>\n",
       "      <th>perc_harass_parents</th>\n",
       "      <th>perc_harass_students</th>\n",
       "      <th>perc_harass_teachers</th>\n",
       "      <th>perc_harass_differences_parents</th>\n",
       "      <th>perc_harass_differences_students</th>\n",
       "      <th>...</th>\n",
       "      <th>allegations_harass_dis_ind</th>\n",
       "      <th>students_report_harass_race_tot_ind</th>\n",
       "      <th>students_disc_harass_race_tot_ind</th>\n",
       "      <th>allegations_harass_race_ind</th>\n",
       "      <th>students_report_harass_sex_tot_ind</th>\n",
       "      <th>students_disc_harass_sex_tot_ind</th>\n",
       "      <th>allegations_harass_sex_ind</th>\n",
       "      <th>disc_harass_ind</th>\n",
       "      <th>report_harass_ind</th>\n",
       "      <th>allegations_harass_ind</th>\n",
       "    </tr>\n",
       "  </thead>\n",
       "  <tbody>\n",
       "    <tr>\n",
       "      <th>0</th>\n",
       "      <td>01M015</td>\n",
       "      <td>P.S. 015 Roberto Clemente</td>\n",
       "      <td>1</td>\n",
       "      <td>20.000000</td>\n",
       "      <td>26.562500</td>\n",
       "      <td>54.166667</td>\n",
       "      <td>NaN</td>\n",
       "      <td>36.363636</td>\n",
       "      <td>63.829787</td>\n",
       "      <td>NaN</td>\n",
       "      <td>...</td>\n",
       "      <td>0.0</td>\n",
       "      <td>0.0</td>\n",
       "      <td>0.0</td>\n",
       "      <td>0.0</td>\n",
       "      <td>0.0</td>\n",
       "      <td>0.0</td>\n",
       "      <td>0.0</td>\n",
       "      <td>0.0</td>\n",
       "      <td>0.0</td>\n",
       "      <td>0.0</td>\n",
       "    </tr>\n",
       "    <tr>\n",
       "      <th>1</th>\n",
       "      <td>01M015</td>\n",
       "      <td>P.S. 015 Roberto Clemente</td>\n",
       "      <td>2</td>\n",
       "      <td>20.000000</td>\n",
       "      <td>26.562500</td>\n",
       "      <td>16.666667</td>\n",
       "      <td>NaN</td>\n",
       "      <td>54.545455</td>\n",
       "      <td>17.021277</td>\n",
       "      <td>NaN</td>\n",
       "      <td>...</td>\n",
       "      <td>0.0</td>\n",
       "      <td>0.0</td>\n",
       "      <td>0.0</td>\n",
       "      <td>0.0</td>\n",
       "      <td>0.0</td>\n",
       "      <td>0.0</td>\n",
       "      <td>0.0</td>\n",
       "      <td>0.0</td>\n",
       "      <td>0.0</td>\n",
       "      <td>0.0</td>\n",
       "    </tr>\n",
       "    <tr>\n",
       "      <th>2</th>\n",
       "      <td>01M015</td>\n",
       "      <td>P.S. 015 Roberto Clemente</td>\n",
       "      <td>3</td>\n",
       "      <td>20.000000</td>\n",
       "      <td>26.562500</td>\n",
       "      <td>14.583333</td>\n",
       "      <td>NaN</td>\n",
       "      <td>9.090909</td>\n",
       "      <td>6.382979</td>\n",
       "      <td>NaN</td>\n",
       "      <td>...</td>\n",
       "      <td>0.0</td>\n",
       "      <td>0.0</td>\n",
       "      <td>0.0</td>\n",
       "      <td>0.0</td>\n",
       "      <td>0.0</td>\n",
       "      <td>0.0</td>\n",
       "      <td>0.0</td>\n",
       "      <td>0.0</td>\n",
       "      <td>0.0</td>\n",
       "      <td>0.0</td>\n",
       "    </tr>\n",
       "    <tr>\n",
       "      <th>3</th>\n",
       "      <td>01M015</td>\n",
       "      <td>P.S. 015 Roberto Clemente</td>\n",
       "      <td>4</td>\n",
       "      <td>20.000000</td>\n",
       "      <td>26.562500</td>\n",
       "      <td>14.583333</td>\n",
       "      <td>NaN</td>\n",
       "      <td>0.000000</td>\n",
       "      <td>12.765957</td>\n",
       "      <td>NaN</td>\n",
       "      <td>...</td>\n",
       "      <td>0.0</td>\n",
       "      <td>0.0</td>\n",
       "      <td>0.0</td>\n",
       "      <td>0.0</td>\n",
       "      <td>0.0</td>\n",
       "      <td>0.0</td>\n",
       "      <td>0.0</td>\n",
       "      <td>0.0</td>\n",
       "      <td>0.0</td>\n",
       "      <td>0.0</td>\n",
       "    </tr>\n",
       "    <tr>\n",
       "      <th>4</th>\n",
       "      <td>01M019</td>\n",
       "      <td>P.S. 019 Asher Levy</td>\n",
       "      <td>1</td>\n",
       "      <td>19.917012</td>\n",
       "      <td>22.362869</td>\n",
       "      <td>35.751295</td>\n",
       "      <td>NaN</td>\n",
       "      <td>54.054054</td>\n",
       "      <td>41.304348</td>\n",
       "      <td>NaN</td>\n",
       "      <td>...</td>\n",
       "      <td>0.0</td>\n",
       "      <td>0.0</td>\n",
       "      <td>0.0</td>\n",
       "      <td>0.0</td>\n",
       "      <td>0.0</td>\n",
       "      <td>0.0</td>\n",
       "      <td>0.0</td>\n",
       "      <td>0.0</td>\n",
       "      <td>0.0</td>\n",
       "      <td>0.0</td>\n",
       "    </tr>\n",
       "  </tbody>\n",
       "</table>\n",
       "<p>5 rows × 69 columns</p>\n",
       "</div>"
      ],
      "text/plain": [
       "      dbn                school_name  answer_code  \\\n",
       "0  01M015  P.S. 015 Roberto Clemente            1   \n",
       "1  01M015  P.S. 015 Roberto Clemente            2   \n",
       "2  01M015  P.S. 015 Roberto Clemente            3   \n",
       "3  01M015  P.S. 015 Roberto Clemente            4   \n",
       "4  01M019        P.S. 019 Asher Levy            1   \n",
       "\n",
       "   dk_parents_perc_harass_parents  dk_parents_perc_harass_differences_parents  \\\n",
       "0                       20.000000                                   26.562500   \n",
       "1                       20.000000                                   26.562500   \n",
       "2                       20.000000                                   26.562500   \n",
       "3                       20.000000                                   26.562500   \n",
       "4                       19.917012                                   22.362869   \n",
       "\n",
       "   perc_harass_parents  perc_harass_students  perc_harass_teachers  \\\n",
       "0            54.166667                   NaN             36.363636   \n",
       "1            16.666667                   NaN             54.545455   \n",
       "2            14.583333                   NaN              9.090909   \n",
       "3            14.583333                   NaN              0.000000   \n",
       "4            35.751295                   NaN             54.054054   \n",
       "\n",
       "   perc_harass_differences_parents  perc_harass_differences_students  \\\n",
       "0                        63.829787                               NaN   \n",
       "1                        17.021277                               NaN   \n",
       "2                         6.382979                               NaN   \n",
       "3                        12.765957                               NaN   \n",
       "4                        41.304348                               NaN   \n",
       "\n",
       "            ...            allegations_harass_dis_ind  \\\n",
       "0           ...                                   0.0   \n",
       "1           ...                                   0.0   \n",
       "2           ...                                   0.0   \n",
       "3           ...                                   0.0   \n",
       "4           ...                                   0.0   \n",
       "\n",
       "   students_report_harass_race_tot_ind  students_disc_harass_race_tot_ind  \\\n",
       "0                                  0.0                                0.0   \n",
       "1                                  0.0                                0.0   \n",
       "2                                  0.0                                0.0   \n",
       "3                                  0.0                                0.0   \n",
       "4                                  0.0                                0.0   \n",
       "\n",
       "   allegations_harass_race_ind  students_report_harass_sex_tot_ind  \\\n",
       "0                          0.0                                 0.0   \n",
       "1                          0.0                                 0.0   \n",
       "2                          0.0                                 0.0   \n",
       "3                          0.0                                 0.0   \n",
       "4                          0.0                                 0.0   \n",
       "\n",
       "   students_disc_harass_sex_tot_ind  allegations_harass_sex_ind  \\\n",
       "0                               0.0                         0.0   \n",
       "1                               0.0                         0.0   \n",
       "2                               0.0                         0.0   \n",
       "3                               0.0                         0.0   \n",
       "4                               0.0                         0.0   \n",
       "\n",
       "   disc_harass_ind  report_harass_ind  allegations_harass_ind  \n",
       "0              0.0                0.0                     0.0  \n",
       "1              0.0                0.0                     0.0  \n",
       "2              0.0                0.0                     0.0  \n",
       "3              0.0                0.0                     0.0  \n",
       "4              0.0                0.0                     0.0  \n",
       "\n",
       "[5 rows x 69 columns]"
      ]
     },
     "execution_count": 36,
     "metadata": {},
     "output_type": "execute_result"
    }
   ],
   "source": [
    "data.head()"
   ]
  },
  {
   "cell_type": "markdown",
   "metadata": {},
   "source": [
    "## Save combined data"
   ]
  },
  {
   "cell_type": "markdown",
   "metadata": {},
   "source": [
    "Save the `ocr` dataframe, which represents the cleaned Civil Rights Data Collection survey data, to a [feather](https://blog.cloudera.com/blog/2016/03/feather-a-fast-on-disk-format-for-data-frames-for-r-and-python-powered-by-apache-arrow/) file in the `data/intermediate` folder."
   ]
  },
  {
   "cell_type": "code",
   "execution_count": 37,
   "metadata": {
    "collapsed": true
   },
   "outputs": [],
   "source": [
    "data.to_feather(os.path.join(intermediate_dir, 'combined_surveys.feather'))"
   ]
  }
 ],
 "metadata": {
  "anaconda-cloud": {},
  "kernelspec": {
   "display_name": "Python 3",
   "language": "python",
   "name": "python3"
  },
  "language_info": {
   "codemirror_mode": {
    "name": "ipython",
    "version": 3
   },
   "file_extension": ".py",
   "mimetype": "text/x-python",
   "name": "python",
   "nbconvert_exporter": "python",
   "pygments_lexer": "ipython3",
   "version": "3.5.2"
  }
 },
 "nbformat": 4,
 "nbformat_minor": 2
}
